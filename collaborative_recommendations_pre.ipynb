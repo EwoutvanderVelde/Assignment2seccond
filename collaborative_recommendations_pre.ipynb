{
 "cells": [
  {
   "cell_type": "code",
   "execution_count": 39,
   "metadata": {},
   "outputs": [],
   "source": [
    "import pandas as pd\n",
    "import json\n",
    "import numpy as np"
   ]
  },
  {
   "cell_type": "code",
   "execution_count": 46,
   "metadata": {},
   "outputs": [
    {
     "name": "stdout",
     "output_type": "stream",
     "text": [
      "0 87187\n",
      "1 90635\n",
      "2 19996\n",
      "3 90635\n",
      "3 19504\n",
      "4 87185\n",
      "5 19996\n",
      "6 87185\n",
      "7 90635\n",
      "8 69217\n",
      "8 9498\n"
     ]
    }
   ],
   "source": [
    "\n",
    "df_activities = pd.read_json(\"activities.json\")\n",
    "df_npo = pd.read_csv(\"NPOPlayer.csv\", sep=\";\")\n",
    "\n",
    "df_selected = df_activities[df_activities['activity'] == \"Select mediaID\"]\n",
    "\n",
    "userlist = list(df_selected[\"user_id\"].unique())\n",
    "mediaIDList = list(df_npo[\"mediaID\"].unique())\n",
    "\n",
    "userID_index = {}\n",
    "index_userID = {}\n",
    "for i, user in enumerate(userlist):\n",
    "    userID_index[user] = i\n",
    "    index_userID[i] = user\n",
    "\n",
    "mediaID_index = {}\n",
    "index_mediaID = {}\n",
    "for i, mediaID in enumerate(mediaIDList):\n",
    "    mediaID_index[mediaID] = i\n",
    "    index_mediaID[i] = mediaID\n",
    "\n",
    "rows = (len(userlist))\n",
    "cols = (len(mediaIDList))\n",
    "#large_empty=np.full((rows,cols),np.nan)\n",
    "large_empty=np.zeros([rows,cols], dtype=np.int8)\n",
    "\n",
    "# Make large interaction matrix\n",
    "# first itteration is over the rows, so the users!\n",
    "for i, row in enumerate(large_empty):\n",
    "    useractivities = df_selected[df_selected[\"user_id\"] == index_userID[i]]\n",
    "    for j in useractivities.iterrows():\n",
    "        content_id = (j[1][\"content_id\"])\n",
    "        columnindex = mediaID_index[content_id]\n",
    "        row[columnindex] += 1\n",
    "        print(i, columnindex)\n"
   ]
  },
  {
   "cell_type": "code",
   "execution_count": 47,
   "metadata": {},
   "outputs": [
    {
     "data": {
      "text/plain": [
       "1188117"
      ]
     },
     "execution_count": 47,
     "metadata": {},
     "output_type": "execute_result"
    }
   ],
   "source": [
    "large_empty.nbytes"
   ]
  },
  {
   "cell_type": "code",
   "execution_count": null,
   "metadata": {},
   "outputs": [],
   "source": []
  },
  {
   "cell_type": "code",
   "execution_count": 48,
   "metadata": {},
   "outputs": [
    {
     "name": "stdout",
     "output_type": "stream",
     "text": [
      "<class 'numpy.ndarray'>\n"
     ]
    }
   ],
   "source": [
    "print(type(large_empty))"
   ]
  },
  {
   "cell_type": "code",
   "execution_count": 53,
   "metadata": {},
   "outputs": [],
   "source": [
    "def get_user_mean(matrix:np.ndarray)-> dict:\n",
    "    usermean = {}\n",
    "    for i in range(len(matrix)):\n",
    "        usermean[index_userID[i]] = 1/np.mean(matrix[i][matrix[i] != 0])\n",
    "    return usermean"
   ]
  },
  {
   "cell_type": "code",
   "execution_count": 54,
   "metadata": {},
   "outputs": [],
   "source": [
    "user_mean_dict = get_user_mean(large_empty)"
   ]
  },
  {
   "cell_type": "code",
   "execution_count": 55,
   "metadata": {},
   "outputs": [
    {
     "data": {
      "text/plain": [
       "{'chwnpxctrh': 1.0,\n",
       " 'sovhxymdkm': 1.0,\n",
       " 'teqocdjxcd': 1.0,\n",
       " 'omwnrpvyls': 1.0,\n",
       " 'hejlrzhtyn': 1.0,\n",
       " 'ahjlmkvzfl': 1.0,\n",
       " 'whvecjnwuj': 1.0,\n",
       " 'uygiwhabiy': 1.0,\n",
       " 'inestfknyv': 1.0}"
      ]
     },
     "execution_count": 55,
     "metadata": {},
     "output_type": "execute_result"
    }
   ],
   "source": [
    "user_mean_dict"
   ]
  },
  {
   "cell_type": "code",
   "execution_count": 70,
   "metadata": {},
   "outputs": [],
   "source": [
    "def get_distance_to_other_users(index_a, row_a):\n",
    "    distance_dict = {}\n",
    "    row_a_norm = row_a - user_mean_dict[index_userID[index_a]]  # if not binary\n",
    "    row_a_norm = row_a  # if binary\n",
    "    for index_b, row_b in enumerate(large_empty):\n",
    "        if index_a != index_b:\n",
    "            row_b_norm = row_b - user_mean_dict[index_userID[index_b]]  # if not binary\n",
    "            row_b_norm = row_b  # if binary\n",
    "            #dot = (np.dot(row_a_norm, row_b_norm))\n",
    "            #length = (np.linalg.norm(row_a_norm) * np.linalg(row_b_norm))\n",
    "            #print(length)\n",
    "            distance_dict[index_userID[index_b]] = np.dot(row_a_norm, row_b_norm)/(np.linalg.norm(row_a_norm) * np.linalg.norm(row_b_norm))\n",
    "    return distance_dict\n"
   ]
  },
  {
   "cell_type": "code",
   "execution_count": 71,
   "metadata": {},
   "outputs": [],
   "source": [
    "user_distance_list = {}\n",
    "for index_a, row_a in enumerate(large_empty):\n",
    "    user_distance_list[index_mediaID[index_a]] = get_distance_to_other_users(index_a, row_a)\n"
   ]
  },
  {
   "cell_type": "code",
   "execution_count": 72,
   "metadata": {},
   "outputs": [
    {
     "data": {
      "text/plain": [
       "{'POMS_BV_16059067': {'sovhxymdkm': 0.0,\n",
       "  'teqocdjxcd': 0.0,\n",
       "  'omwnrpvyls': 0.0,\n",
       "  'hejlrzhtyn': 0.0,\n",
       "  'ahjlmkvzfl': 0.0,\n",
       "  'whvecjnwuj': 0.0,\n",
       "  'uygiwhabiy': 0.0,\n",
       "  'inestfknyv': 0.0},\n",
       " 'POMS_AT_3975232': {'chwnpxctrh': 0.0,\n",
       "  'teqocdjxcd': 0.0,\n",
       "  'omwnrpvyls': 0.7071067811865475,\n",
       "  'hejlrzhtyn': 0.0,\n",
       "  'ahjlmkvzfl': 0.0,\n",
       "  'whvecjnwuj': 0.0,\n",
       "  'uygiwhabiy': 1.0,\n",
       "  'inestfknyv': 0.0},\n",
       " 'KN_1685196': {'chwnpxctrh': 0.0,\n",
       "  'sovhxymdkm': 0.0,\n",
       "  'omwnrpvyls': 0.0,\n",
       "  'hejlrzhtyn': 0.0,\n",
       "  'ahjlmkvzfl': 1.0,\n",
       "  'whvecjnwuj': 0.0,\n",
       "  'uygiwhabiy': 0.0,\n",
       "  'inestfknyv': 0.0},\n",
       " 'WO_KN_15405842': {'chwnpxctrh': 0.0,\n",
       "  'sovhxymdkm': 0.7071067811865475,\n",
       "  'teqocdjxcd': 0.0,\n",
       "  'hejlrzhtyn': 0.0,\n",
       "  'ahjlmkvzfl': 0.0,\n",
       "  'whvecjnwuj': 0.0,\n",
       "  'uygiwhabiy': 0.7071067811865475,\n",
       "  'inestfknyv': 0.0},\n",
       " 'BNN_101372385': {'chwnpxctrh': 0.0,\n",
       "  'sovhxymdkm': 0.0,\n",
       "  'teqocdjxcd': 0.0,\n",
       "  'omwnrpvyls': 0.0,\n",
       "  'ahjlmkvzfl': 0.0,\n",
       "  'whvecjnwuj': 1.0,\n",
       "  'uygiwhabiy': 0.0,\n",
       "  'inestfknyv': 0.0},\n",
       " 'POW_05260999': {'chwnpxctrh': 0.0,\n",
       "  'sovhxymdkm': 0.0,\n",
       "  'teqocdjxcd': 1.0,\n",
       "  'omwnrpvyls': 0.0,\n",
       "  'hejlrzhtyn': 0.0,\n",
       "  'whvecjnwuj': 0.0,\n",
       "  'uygiwhabiy': 0.0,\n",
       "  'inestfknyv': 0.0},\n",
       " 'POW_05260990': {'chwnpxctrh': 0.0,\n",
       "  'sovhxymdkm': 0.0,\n",
       "  'teqocdjxcd': 0.0,\n",
       "  'omwnrpvyls': 0.0,\n",
       "  'hejlrzhtyn': 1.0,\n",
       "  'ahjlmkvzfl': 0.0,\n",
       "  'uygiwhabiy': 0.0,\n",
       "  'inestfknyv': 0.0},\n",
       " 'POW_05260991': {'chwnpxctrh': 0.0,\n",
       "  'sovhxymdkm': 1.0,\n",
       "  'teqocdjxcd': 0.0,\n",
       "  'omwnrpvyls': 0.7071067811865475,\n",
       "  'hejlrzhtyn': 0.0,\n",
       "  'ahjlmkvzfl': 0.0,\n",
       "  'whvecjnwuj': 0.0,\n",
       "  'inestfknyv': 0.0},\n",
       " 'POW_05260992': {'chwnpxctrh': 0.0,\n",
       "  'sovhxymdkm': 0.0,\n",
       "  'teqocdjxcd': 0.0,\n",
       "  'omwnrpvyls': 0.0,\n",
       "  'hejlrzhtyn': 0.0,\n",
       "  'ahjlmkvzfl': 0.0,\n",
       "  'whvecjnwuj': 0.0,\n",
       "  'uygiwhabiy': 0.0}}"
      ]
     },
     "execution_count": 72,
     "metadata": {},
     "output_type": "execute_result"
    }
   ],
   "source": [
    "user_distance_list"
   ]
  },
  {
   "cell_type": "code",
   "execution_count": null,
   "metadata": {},
   "outputs": [],
   "source": [
    "for user in userlist:\n",
    "    print(user)"
   ]
  }
 ],
 "metadata": {
  "kernelspec": {
   "display_name": "INFOMPPM",
   "language": "python",
   "name": "python3"
  },
  "language_info": {
   "codemirror_mode": {
    "name": "ipython",
    "version": 3
   },
   "file_extension": ".py",
   "mimetype": "text/x-python",
   "name": "python",
   "nbconvert_exporter": "python",
   "pygments_lexer": "ipython3",
   "version": "3.10.9"
  },
  "orig_nbformat": 4
 },
 "nbformat": 4,
 "nbformat_minor": 2
}
