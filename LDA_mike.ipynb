{
 "cells": [
  {
   "cell_type": "code",
   "execution_count": 2,
   "id": "40c44469",
   "metadata": {},
   "outputs": [],
   "source": [
    "#topic modeling with lda\n",
    "import pandas as pd\n",
    "from tqdm import tqdm\n",
    "tqdm.pandas()"
   ]
  },
  {
   "cell_type": "code",
   "execution_count": 1,
   "id": "bd6d125e",
   "metadata": {},
   "outputs": [
    {
     "data": {
      "text/plain": [
       "0"
      ]
     },
     "execution_count": 1,
     "metadata": {},
     "output_type": "execute_result"
    }
   ],
   "source": [
    "min(1,0)"
   ]
  },
  {
   "cell_type": "code",
   "execution_count": 3,
   "id": "42b4b572",
   "metadata": {},
   "outputs": [],
   "source": [
    "npo = pd.read_csv(\"NPOPlayer.csv\", sep=\";\")\n",
    "\n",
    "npo[npo[\"longSummary\"].isna()] = \"\""
   ]
  },
  {
   "cell_type": "code",
   "execution_count": 4,
   "id": "c01ac71d",
   "metadata": {},
   "outputs": [
    {
     "data": {
      "text/plain": [
       "0         https://images.npo.nl/header/2560x1440/1369174...\n",
       "1         https://images.npo.nl/header/2560x1440/752519.jpg\n",
       "2                                                          \n",
       "3                                                          \n",
       "4         https://images.npo.nl/header/2560x1440/557420.jpg\n",
       "                                ...                        \n",
       "132008    https://images.npo.nl/header/2560x1440/890863.jpg\n",
       "132009                                                     \n",
       "132010    https://images.npo.nl/header/2560x1440/1210745...\n",
       "132011                                                     \n",
       "132012                                                  NaN\n",
       "Name: thumbnail, Length: 132013, dtype: object"
      ]
     },
     "execution_count": 4,
     "metadata": {},
     "output_type": "execute_result"
    }
   ],
   "source": [
    "npo['thumbnail']"
   ]
  },
  {
   "cell_type": "code",
   "execution_count": 5,
   "id": "09317956",
   "metadata": {},
   "outputs": [],
   "source": [
    "description = npo['longSummary']"
   ]
  },
  {
   "cell_type": "code",
   "execution_count": 6,
   "id": "559d59ae",
   "metadata": {},
   "outputs": [
    {
     "name": "stdout",
     "output_type": "stream",
     "text": [
      "0         In de achtste aflevering van onze nieuwe dagel...\n",
      "1         Van alle inschrijvingen zijn er slechts 28 ges...\n",
      "2                                                          \n",
      "3                                                          \n",
      "4         Wat gebeurt er met de inwoners van een klein Z...\n",
      "                                ...                        \n",
      "132008    Van vernielingen en diefstal tot aanrandingen,...\n",
      "132009                                                     \n",
      "132010    Sjezen om je vliegtuig te halen en dan zulke t...\n",
      "132011                                                     \n",
      "132012    Spectaculaire beelden uit Zwolle waar dit week...\n",
      "Name: longSummary, Length: 132013, dtype: object\n"
     ]
    }
   ],
   "source": [
    "print(description)"
   ]
  },
  {
   "cell_type": "code",
   "execution_count": 7,
   "id": "d7d68dde",
   "metadata": {},
   "outputs": [
    {
     "name": "stderr",
     "output_type": "stream",
     "text": [
      "[nltk_data] Downloading package stopwords to\n",
      "[nltk_data]     C:\\Users\\Mike\\AppData\\Roaming\\nltk_data...\n",
      "[nltk_data]   Package stopwords is already up-to-date!\n",
      "[nltk_data] Downloading package wordnet to\n",
      "[nltk_data]     C:\\Users\\Mike\\AppData\\Roaming\\nltk_data...\n",
      "[nltk_data]   Package wordnet is already up-to-date!\n"
     ]
    }
   ],
   "source": [
    "#create function to clean the text\n",
    "import spacy\n",
    "import nltk\n",
    "from nltk.tokenize import word_tokenize \n",
    "from nltk.corpus import stopwords\n",
    "#nlp = spacy.load(\"nl_core_news_sm\")\n",
    "nltk.download('stopwords')\n",
    "nltk.download('wordnet')\n",
    "sw = set(stopwords.words('dutch'))\n",
    "\n",
    "import re\n",
    "import string\n",
    "from nltk.stem import WordNetLemmatizer\n",
    "lemmatizer = WordNetLemmatizer()\n",
    "\n",
    "def clean_text(x):\n",
    "    # remove punctutation\n",
    "    x = x.translate(str.maketrans('','',string.punctuation))\n",
    "    #remove digits\n",
    "    x = x.translate(str.maketrans('','',string.digits))\n",
    "    # tokenize for stopwords\n",
    "    x = word_tokenize(x.lower())\n",
    "    x = [lemmatizer.lemmatize(token) for token in x if token not in sw]\n",
    "    x = ' '.join([w for w in x])\n",
    "    return x"
   ]
  },
  {
   "cell_type": "code",
   "execution_count": 8,
   "id": "ba2a0c5d",
   "metadata": {},
   "outputs": [
    {
     "name": "stderr",
     "output_type": "stream",
     "text": [
      "100%|████████████████████████████████████████████████████████████████████████| 132013/132013 [00:44<00:00, 2965.11it/s]\n"
     ]
    }
   ],
   "source": [
    "description_cleaned = description.progress_apply(clean_text)"
   ]
  },
  {
   "cell_type": "code",
   "execution_count": 9,
   "id": "4d01dd4e",
   "metadata": {
    "scrolled": true
   },
   "outputs": [
    {
     "name": "stdout",
     "output_type": "stream",
     "text": [
      "0         achtste aflevering onze nieuwe dagelijkse seri...\n",
      "1         alle inschrijvingen slechts geselecteerd audit...\n",
      "2                                                          \n",
      "3                                                          \n",
      "4         gebeurt inwoners klein zeeuws dorp plotseling ...\n",
      "                                ...                        \n",
      "132008    vernielingen diefstal aanrandingen niemand vei...\n",
      "132009                                                     \n",
      "132010    sjezen vliegtuig halen zulke tsunami zweten ze...\n",
      "132011                                                     \n",
      "132012    spectaculaire beelden zwolle waar weekend twee...\n",
      "Name: longSummary, Length: 132013, dtype: object\n"
     ]
    }
   ],
   "source": [
    "print(description_cleaned)"
   ]
  },
  {
   "cell_type": "code",
   "execution_count": 10,
   "id": "26863269",
   "metadata": {},
   "outputs": [],
   "source": [
    "import sklearn\n",
    "from sklearn.feature_extraction.text import TfidfVectorizer\n",
    "\n",
    "vectorizer = TfidfVectorizer(min_df=25)\n",
    "tf_idf = vectorizer.fit_transform(description_cleaned)\n",
    "columns=vectorizer.get_feature_names_out()"
   ]
  },
  {
   "cell_type": "code",
   "execution_count": 11,
   "id": "da088276",
   "metadata": {},
   "outputs": [
    {
     "name": "stdout",
     "output_type": "stream",
     "text": [
      "iteration: 1 of max_iter: 10\n",
      "iteration: 2 of max_iter: 10\n",
      "iteration: 3 of max_iter: 10\n",
      "iteration: 4 of max_iter: 10\n",
      "iteration: 5 of max_iter: 10\n",
      "iteration: 6 of max_iter: 10\n",
      "iteration: 7 of max_iter: 10\n",
      "iteration: 8 of max_iter: 10\n",
      "iteration: 9 of max_iter: 10\n",
      "iteration: 10 of max_iter: 10\n"
     ]
    },
    {
     "data": {
      "text/html": [
       "<style>#sk-container-id-1 {color: black;background-color: white;}#sk-container-id-1 pre{padding: 0;}#sk-container-id-1 div.sk-toggleable {background-color: white;}#sk-container-id-1 label.sk-toggleable__label {cursor: pointer;display: block;width: 100%;margin-bottom: 0;padding: 0.3em;box-sizing: border-box;text-align: center;}#sk-container-id-1 label.sk-toggleable__label-arrow:before {content: \"▸\";float: left;margin-right: 0.25em;color: #696969;}#sk-container-id-1 label.sk-toggleable__label-arrow:hover:before {color: black;}#sk-container-id-1 div.sk-estimator:hover label.sk-toggleable__label-arrow:before {color: black;}#sk-container-id-1 div.sk-toggleable__content {max-height: 0;max-width: 0;overflow: hidden;text-align: left;background-color: #f0f8ff;}#sk-container-id-1 div.sk-toggleable__content pre {margin: 0.2em;color: black;border-radius: 0.25em;background-color: #f0f8ff;}#sk-container-id-1 input.sk-toggleable__control:checked~div.sk-toggleable__content {max-height: 200px;max-width: 100%;overflow: auto;}#sk-container-id-1 input.sk-toggleable__control:checked~label.sk-toggleable__label-arrow:before {content: \"▾\";}#sk-container-id-1 div.sk-estimator input.sk-toggleable__control:checked~label.sk-toggleable__label {background-color: #d4ebff;}#sk-container-id-1 div.sk-label input.sk-toggleable__control:checked~label.sk-toggleable__label {background-color: #d4ebff;}#sk-container-id-1 input.sk-hidden--visually {border: 0;clip: rect(1px 1px 1px 1px);clip: rect(1px, 1px, 1px, 1px);height: 1px;margin: -1px;overflow: hidden;padding: 0;position: absolute;width: 1px;}#sk-container-id-1 div.sk-estimator {font-family: monospace;background-color: #f0f8ff;border: 1px dotted black;border-radius: 0.25em;box-sizing: border-box;margin-bottom: 0.5em;}#sk-container-id-1 div.sk-estimator:hover {background-color: #d4ebff;}#sk-container-id-1 div.sk-parallel-item::after {content: \"\";width: 100%;border-bottom: 1px solid gray;flex-grow: 1;}#sk-container-id-1 div.sk-label:hover label.sk-toggleable__label {background-color: #d4ebff;}#sk-container-id-1 div.sk-serial::before {content: \"\";position: absolute;border-left: 1px solid gray;box-sizing: border-box;top: 0;bottom: 0;left: 50%;z-index: 0;}#sk-container-id-1 div.sk-serial {display: flex;flex-direction: column;align-items: center;background-color: white;padding-right: 0.2em;padding-left: 0.2em;position: relative;}#sk-container-id-1 div.sk-item {position: relative;z-index: 1;}#sk-container-id-1 div.sk-parallel {display: flex;align-items: stretch;justify-content: center;background-color: white;position: relative;}#sk-container-id-1 div.sk-item::before, #sk-container-id-1 div.sk-parallel-item::before {content: \"\";position: absolute;border-left: 1px solid gray;box-sizing: border-box;top: 0;bottom: 0;left: 50%;z-index: -1;}#sk-container-id-1 div.sk-parallel-item {display: flex;flex-direction: column;z-index: 1;position: relative;background-color: white;}#sk-container-id-1 div.sk-parallel-item:first-child::after {align-self: flex-end;width: 50%;}#sk-container-id-1 div.sk-parallel-item:last-child::after {align-self: flex-start;width: 50%;}#sk-container-id-1 div.sk-parallel-item:only-child::after {width: 0;}#sk-container-id-1 div.sk-dashed-wrapped {border: 1px dashed gray;margin: 0 0.4em 0.5em 0.4em;box-sizing: border-box;padding-bottom: 0.4em;background-color: white;}#sk-container-id-1 div.sk-label label {font-family: monospace;font-weight: bold;display: inline-block;line-height: 1.2em;}#sk-container-id-1 div.sk-label-container {text-align: center;}#sk-container-id-1 div.sk-container {/* jupyter's `normalize.less` sets `[hidden] { display: none; }` but bootstrap.min.css set `[hidden] { display: none !important; }` so we also need the `!important` here to be able to override the default hidden behavior on the sphinx rendered scikit-learn.org. See: https://github.com/scikit-learn/scikit-learn/issues/21755 */display: inline-block !important;position: relative;}#sk-container-id-1 div.sk-text-repr-fallback {display: none;}</style><div id=\"sk-container-id-1\" class=\"sk-top-container\"><div class=\"sk-text-repr-fallback\"><pre>LatentDirichletAllocation(learning_method=&#x27;online&#x27;, n_jobs=16, verbose=1)</pre><b>In a Jupyter environment, please rerun this cell to show the HTML representation or trust the notebook. <br />On GitHub, the HTML representation is unable to render, please try loading this page with nbviewer.org.</b></div><div class=\"sk-container\" hidden><div class=\"sk-item\"><div class=\"sk-estimator sk-toggleable\"><input class=\"sk-toggleable__control sk-hidden--visually\" id=\"sk-estimator-id-1\" type=\"checkbox\" checked><label for=\"sk-estimator-id-1\" class=\"sk-toggleable__label sk-toggleable__label-arrow\">LatentDirichletAllocation</label><div class=\"sk-toggleable__content\"><pre>LatentDirichletAllocation(learning_method=&#x27;online&#x27;, n_jobs=16, verbose=1)</pre></div></div></div></div></div>"
      ],
      "text/plain": [
       "LatentDirichletAllocation(learning_method='online', n_jobs=16, verbose=1)"
      ]
     },
     "execution_count": 11,
     "metadata": {},
     "output_type": "execute_result"
    }
   ],
   "source": [
    "from sklearn.decomposition import LatentDirichletAllocation\n",
    "n_topics = 15\n",
    "lda_npo = LatentDirichletAllocation(n_components=n_topics, learning_method='online', n_jobs=16, verbose=1)\n",
    "lda_npo.fit(tf_idf)"
   ]
  },
  {
   "cell_type": "code",
   "execution_count": 12,
   "id": "f4d2954b",
   "metadata": {},
   "outputs": [],
   "source": [
    "terms = columns\n",
    "def df_lda(model,terms,n_topics):\n",
    "    df = pd.DataFrame(model.components_, columns=terms)\n",
    "    df = df.T\n",
    "    print(df)\n",
    "    for topic in range(n_topics):\n",
    "        df_topic = df[topic]\n",
    "        print('topic',topic,'top words are:\\n',df[topic].sort_values(ascending=False)[:15])"
   ]
  },
  {
   "cell_type": "code",
   "execution_count": 13,
   "id": "06e10fb5",
   "metadata": {},
   "outputs": [
    {
     "name": "stdout",
     "output_type": "stream",
     "text": [
      "                    0         1         2         3          4           5  \\\n",
      "aa           0.100000  0.100003  0.100000  0.100019   0.100040    9.129469   \n",
      "aad          0.100006  0.100001  0.100000  0.100056   0.100045   11.970907   \n",
      "aanbevolen   0.100000  0.100000  0.100000  0.100011   0.100062    0.100002   \n",
      "aanbieden    0.100030  0.100003  0.100003  0.100079   0.100126    0.100068   \n",
      "aanbod       0.100047  0.100002  0.100029  0.100011  21.084758    0.100041   \n",
      "...               ...       ...       ...       ...        ...         ...   \n",
      "één          0.100007  0.100046  0.100004  0.100011  15.684806  481.629337   \n",
      "óf           0.100019  0.100032  0.100004  0.100034   0.100139    0.100119   \n",
      "óók          0.100002  0.100001  0.100061  0.100008  14.761070    0.100097   \n",
      "özcan       32.364754  0.100002  0.100003  0.100010   0.100011    0.100009   \n",
      "überhaupt    0.100004  0.100001  0.100000  0.100022   0.100041   11.307490   \n",
      "\n",
      "                   6           7         8         9  \n",
      "aa          0.100004    0.100002  0.100005  0.100002  \n",
      "aad         0.100003    0.100005  0.100005  0.100006  \n",
      "aanbevolen  0.100000  176.310235  0.100000  0.100000  \n",
      "aanbieden   0.100017   14.389561  0.100016  0.100011  \n",
      "aanbod      0.100013    0.100006  0.100013  0.100005  \n",
      "...              ...         ...       ...       ...  \n",
      "één         0.100008    0.100010  0.100010  0.100006  \n",
      "óf          8.156957    0.100019  0.100034  0.100007  \n",
      "óók         0.100035    0.100004  0.100027  0.100005  \n",
      "özcan       0.100006    0.100003  0.100003  0.100002  \n",
      "überhaupt   0.100004    0.100009  0.100009  0.100001  \n",
      "\n",
      "[10124 rows x 10 columns]\n",
      "topic 0 top words are:\n",
      " compilatie           340.203570\n",
      "hoogtepunten         233.655656\n",
      "gein                 184.528409\n",
      "dylan                181.723987\n",
      "max                  130.124050\n",
      "otis                 103.189678\n",
      "pingu                101.898770\n",
      "belevenissen          99.004316\n",
      "filiz                 93.281531\n",
      "kleianimatieserie     92.471820\n",
      "afgelopen             81.936958\n",
      "blij                  74.310080\n",
      "damstra               73.026282\n",
      "jos                   64.041233\n",
      "hilarische            62.430782\n",
      "Name: 0, dtype: float64\n",
      "topic 1 top words are:\n",
      " avonturen            691.412292\n",
      "antwoordmagazine     331.207651\n",
      "move                 273.019464\n",
      "sportprobleem        268.745132\n",
      "sportmagazine        244.302941\n",
      "coolste              203.839749\n",
      "supersnel            156.783301\n",
      "sporttalent          155.861452\n",
      "sporttricks          155.192856\n",
      "ekduel               114.991284\n",
      "weerreportage        112.247597\n",
      "tommie               105.241388\n",
      "wedstrijdanalyse     102.735721\n",
      "pino                  91.317555\n",
      "tienletterwoorden     82.506843\n",
      "Name: 1, dtype: float64\n",
      "topic 2 top words are:\n",
      " finale                     181.393574\n",
      "gespeelde                  121.781744\n",
      "quiz                       120.666544\n",
      "uiteenlopende              119.684395\n",
      "pierre                     109.830432\n",
      "eredivisiewedstrijden       85.354661\n",
      "halve                       81.676638\n",
      "informatief                 80.218258\n",
      "naomi                       78.325911\n",
      "wkkwalificatiewedstrijd     76.803113\n",
      "gepresenteerd               70.090093\n",
      "eucharistieviering          65.010835\n",
      "beeldende                   64.545023\n",
      "musea                       63.280831\n",
      "janouk                      58.891215\n",
      "Name: 2, dtype: float64\n",
      "topic 3 top words are:\n",
      " sportnieuws         947.820520\n",
      "gast                732.297530\n",
      "gebeurtenissen      604.702571\n",
      "belang              595.797535\n",
      "nationaal           582.892738\n",
      "nieuws              581.942975\n",
      "internationaal      579.856038\n",
      "weersverwachting    575.310235\n",
      "laatste             516.082860\n",
      "politiek            422.792807\n",
      "actuele             287.520019\n",
      "animatieserie       284.726290\n",
      "aandacht            229.598266\n",
      "tweede              211.812099\n",
      "investeren          183.790518\n",
      "Name: 3, dtype: float64\n",
      "topic 4 top words are:\n",
      " dag              1247.820982\n",
      "belangrijkste     988.012823\n",
      "we                878.071655\n",
      "entertainment     808.157006\n",
      "amsterdam         783.841876\n",
      "actuele           704.572936\n",
      "zoals             617.653566\n",
      "tevens            595.891245\n",
      "nederland         577.170179\n",
      "hen               563.028060\n",
      "zaken             554.048296\n",
      "leven             502.374540\n",
      "mensen            456.033485\n",
      "elke              435.125315\n",
      "kunst             431.627085\n",
      "Name: 4, dtype: float64\n",
      "topic 5 top words are:\n",
      " waar         1191.941133\n",
      "weer         1109.414265\n",
      "kinderen     1091.212159\n",
      "gaat         1069.639155\n",
      "saman        1051.651235\n",
      "zien         1028.278788\n",
      "gaan          955.517694\n",
      "jonge         949.609291\n",
      "jaar          875.977703\n",
      "nieuws        871.008664\n",
      "we            842.049632\n",
      "kijker        828.682310\n",
      "vertelt       813.761302\n",
      "beste         780.845378\n",
      "programma     776.760915\n",
      "Name: 5, dtype: float64\n",
      "topic 6 top words are:\n",
      " zappelin           534.747906\n",
      "kleuters           344.996866\n",
      "lef                149.786912\n",
      "moffel             141.644698\n",
      "schuift            120.083144\n",
      "piertje            115.265543\n",
      "thema              114.247582\n",
      "train              113.435351\n",
      "winther            101.706191\n",
      "vries               75.705330\n",
      "prins               74.153590\n",
      "voorbeschouwing     72.291597\n",
      "programma           68.571201\n",
      "prinses             68.217686\n",
      "boswachter          61.808795\n",
      "Name: 6, dtype: float64\n",
      "topic 7 top words are:\n",
      " livebeelden    226.017874\n",
      "wk             215.830006\n",
      "ek             196.544860\n",
      "helft          190.498479\n",
      "schaatsen      189.668442\n",
      "aanbevolen     176.310235\n",
      "onthouden      117.593530\n",
      "comedyserie     97.230093\n",
      "grootvaders     96.175257\n",
      "hockey          90.687325\n",
      "freek           89.247383\n",
      "cup             89.173472\n",
      "taart           88.976301\n",
      "stoppen         76.810384\n",
      "special         76.081308\n",
      "Name: 7, dtype: float64\n",
      "topic 8 top words are:\n",
      " fenna               1579.929063\n",
      "zappie              1063.709464\n",
      "ramos                533.225628\n",
      "spelletjes           526.822427\n",
      "slaapkamer           468.622206\n",
      "woonkamer            465.952738\n",
      "onderwerpen          459.579340\n",
      "kleuterprogramma     327.120306\n",
      "muziekprogramma      196.417300\n",
      "meiden               189.051677\n",
      "rachel               186.348686\n",
      "bespreken            172.994513\n",
      "elbert               171.453223\n",
      "mol                  161.816927\n",
      "single               136.884677\n",
      "Name: 8, dtype: float64\n",
      "topic 9 top words are:\n",
      " reportage             940.760537\n",
      "nieuws                933.660169\n",
      "live                  916.026363\n",
      "gasten                662.452646\n",
      "westergasfabriek      611.099590\n",
      "samenvattingen        594.113808\n",
      "latenight             591.707749\n",
      "sport                 581.751332\n",
      "vanuit                557.447271\n",
      "copresentatrice       474.501606\n",
      "verkeersinformatie    474.501606\n",
      "liveverslag           414.831164\n",
      "interview             321.734425\n",
      "evenementen           315.354500\n",
      "sportwedstrijden      313.858757\n",
      "Name: 9, dtype: float64\n",
      "None\n"
     ]
    }
   ],
   "source": [
    "print(df_lda(lda_npo, terms,n_topics))"
   ]
  },
  {
   "cell_type": "code",
   "execution_count": 14,
   "id": "7c78c2b4",
   "metadata": {},
   "outputs": [
    {
     "data": {
      "text/plain": [
       "'\\n1: culture\\n2: \\n3: \\n4: children programming\\n5: \\n6: \\n7:\\n8:\\n9: \\n10: \\n'"
      ]
     },
     "execution_count": 14,
     "metadata": {},
     "output_type": "execute_result"
    }
   ],
   "source": [
    "# topics\n",
    "\"\"\"\n",
    "1: culture\n",
    "2: \n",
    "3: \n",
    "4: children programming\n",
    "5: \n",
    "6: \n",
    "7:\n",
    "8:\n",
    "9: \n",
    "10: \n",
    "\"\"\"\n"
   ]
  },
  {
   "cell_type": "code",
   "execution_count": 15,
   "id": "4e136af2",
   "metadata": {},
   "outputs": [],
   "source": [
    "# find the most likely topic for each instance in the dataframe\n",
    "topic_dist = lda_npo.transform(tf_idf)\n",
    "\n",
    "clusters = topic_dist.argmax(axis=1)\n",
    "\n",
    "data = {\n",
    "  'description': description_cleaned,\n",
    "  'topic': clusters\n",
    "}\n",
    "cluster_df = pd.DataFrame(data)"
   ]
  },
  {
   "cell_type": "code",
   "execution_count": 16,
   "id": "c3b5034f",
   "metadata": {},
   "outputs": [
    {
     "name": "stdout",
     "output_type": "stream",
     "text": [
      "                                              description  topic subtopic\n",
      "0       achtste aflevering onze nieuwe dagelijkse seri...      5     None\n",
      "1       alle inschrijvingen slechts geselecteerd audit...      5     None\n",
      "2                                                              0     None\n",
      "3                                                              0     None\n",
      "4       gebeurt inwoners klein zeeuws dorp plotseling ...      4     None\n",
      "...                                                   ...    ...      ...\n",
      "132008  vernielingen diefstal aanrandingen niemand vei...      4     None\n",
      "132009                                                         0     None\n",
      "132010  sjezen vliegtuig halen zulke tsunami zweten ze...      5     None\n",
      "132011                                                         0     None\n",
      "132012  spectaculaire beelden zwolle waar weekend twee...      5     None\n",
      "\n",
      "[132013 rows x 3 columns]\n"
     ]
    }
   ],
   "source": [
    "cluster_df['subtopic'] = None\n",
    "print(cluster_df)"
   ]
  },
  {
   "cell_type": "code",
   "execution_count": 17,
   "id": "2ae90aef",
   "metadata": {},
   "outputs": [],
   "source": [
    "data_df = {\n",
    "    'topic': [-1,-1],\n",
    "    'subtopic': [-1,-1],\n",
    "    'words': [['letter','car'],['letter','car']]\n",
    "}\n",
    "words_subtopic = pd.DataFrame(data_df)\n",
    "\n",
    "def sub_topic(cluster_df,max_sub_topic_amount):\n",
    "    for i in range(n_topics):\n",
    "        # get the right instances\n",
    "        cluster = cluster_df[cluster_df['topic']==i]\n",
    "        sub_topic_amount = min(len(cluster)/20,max_sub_topic_amount)\n",
    "        description = cluster['description']\n",
    "        # create tf_idf\n",
    "        vectorizer = TfidfVectorizer(min_df=10)\n",
    "        tf_idf = vectorizer.fit_transform(description)\n",
    "        columns=vectorizer.get_feature_names_out()\n",
    "        # make lda and the clusters\n",
    "        lda = LatentDirichletAllocation(n_components=sub_topic_amount, learning_method='online', n_jobs=16, verbose=1)\n",
    "        lda.fit(tf_idf)\n",
    "        df_subtopic = pd.DataFrame(lda.components_, columns=columns)\n",
    "        df_subtopic = df_subtopic.T\n",
    "        for topic in range(sub_topic_amount):\n",
    "            df_topic = df_subtopic[topic]\n",
    "            most_words = df_topic.sort_values(ascending=False)[:10].index.tolist()\n",
    "            entry = [i,topic,most_words]\n",
    "            words_subtopic.loc[len(words_subtopic)] = entry\n",
    "        topic_dist = lda.transform(tf_idf)\n",
    "        clusters = topic_dist.argmax(axis=1)\n",
    "        #input the cluster to the right topic cluster\n",
    "        cluster_df['subtopic'][cluster_df['topic']==i] = clusters\n",
    "        "
   ]
  },
  {
   "cell_type": "code",
   "execution_count": 18,
   "id": "d6cb1fe5",
   "metadata": {},
   "outputs": [
    {
     "name": "stdout",
     "output_type": "stream",
     "text": [
      "iteration: 1 of max_iter: 10\n",
      "iteration: 2 of max_iter: 10\n",
      "iteration: 3 of max_iter: 10\n",
      "iteration: 4 of max_iter: 10\n",
      "iteration: 5 of max_iter: 10\n",
      "iteration: 6 of max_iter: 10\n",
      "iteration: 7 of max_iter: 10\n",
      "iteration: 8 of max_iter: 10\n",
      "iteration: 9 of max_iter: 10\n",
      "iteration: 10 of max_iter: 10\n"
     ]
    },
    {
     "name": "stderr",
     "output_type": "stream",
     "text": [
      "C:\\Users\\Mike\\AppData\\Local\\Temp\\ipykernel_24528\\177554580.py:30: SettingWithCopyWarning: \n",
      "A value is trying to be set on a copy of a slice from a DataFrame\n",
      "\n",
      "See the caveats in the documentation: https://pandas.pydata.org/pandas-docs/stable/user_guide/indexing.html#returning-a-view-versus-a-copy\n",
      "  cluster_df['subtopic'][cluster_df['topic']==i] = clusters\n"
     ]
    },
    {
     "name": "stdout",
     "output_type": "stream",
     "text": [
      "iteration: 1 of max_iter: 10\n",
      "iteration: 2 of max_iter: 10\n",
      "iteration: 3 of max_iter: 10\n",
      "iteration: 4 of max_iter: 10\n",
      "iteration: 5 of max_iter: 10\n",
      "iteration: 6 of max_iter: 10\n",
      "iteration: 7 of max_iter: 10\n",
      "iteration: 8 of max_iter: 10\n",
      "iteration: 9 of max_iter: 10\n",
      "iteration: 10 of max_iter: 10\n",
      "iteration: 1 of max_iter: 10\n"
     ]
    },
    {
     "name": "stderr",
     "output_type": "stream",
     "text": [
      "C:\\Users\\Mike\\AppData\\Local\\Temp\\ipykernel_24528\\177554580.py:30: SettingWithCopyWarning: \n",
      "A value is trying to be set on a copy of a slice from a DataFrame\n",
      "\n",
      "See the caveats in the documentation: https://pandas.pydata.org/pandas-docs/stable/user_guide/indexing.html#returning-a-view-versus-a-copy\n",
      "  cluster_df['subtopic'][cluster_df['topic']==i] = clusters\n"
     ]
    },
    {
     "name": "stdout",
     "output_type": "stream",
     "text": [
      "iteration: 2 of max_iter: 10\n",
      "iteration: 3 of max_iter: 10\n",
      "iteration: 4 of max_iter: 10\n",
      "iteration: 5 of max_iter: 10\n",
      "iteration: 6 of max_iter: 10\n",
      "iteration: 7 of max_iter: 10\n",
      "iteration: 8 of max_iter: 10\n",
      "iteration: 9 of max_iter: 10\n",
      "iteration: 10 of max_iter: 10\n"
     ]
    },
    {
     "name": "stderr",
     "output_type": "stream",
     "text": [
      "C:\\Users\\Mike\\AppData\\Local\\Temp\\ipykernel_24528\\177554580.py:30: SettingWithCopyWarning: \n",
      "A value is trying to be set on a copy of a slice from a DataFrame\n",
      "\n",
      "See the caveats in the documentation: https://pandas.pydata.org/pandas-docs/stable/user_guide/indexing.html#returning-a-view-versus-a-copy\n",
      "  cluster_df['subtopic'][cluster_df['topic']==i] = clusters\n"
     ]
    },
    {
     "name": "stdout",
     "output_type": "stream",
     "text": [
      "iteration: 1 of max_iter: 10\n",
      "iteration: 2 of max_iter: 10\n",
      "iteration: 3 of max_iter: 10\n",
      "iteration: 4 of max_iter: 10\n",
      "iteration: 5 of max_iter: 10\n",
      "iteration: 6 of max_iter: 10\n",
      "iteration: 7 of max_iter: 10\n",
      "iteration: 8 of max_iter: 10\n",
      "iteration: 9 of max_iter: 10\n",
      "iteration: 10 of max_iter: 10\n"
     ]
    },
    {
     "name": "stderr",
     "output_type": "stream",
     "text": [
      "C:\\Users\\Mike\\AppData\\Local\\Temp\\ipykernel_24528\\177554580.py:30: SettingWithCopyWarning: \n",
      "A value is trying to be set on a copy of a slice from a DataFrame\n",
      "\n",
      "See the caveats in the documentation: https://pandas.pydata.org/pandas-docs/stable/user_guide/indexing.html#returning-a-view-versus-a-copy\n",
      "  cluster_df['subtopic'][cluster_df['topic']==i] = clusters\n"
     ]
    },
    {
     "name": "stdout",
     "output_type": "stream",
     "text": [
      "iteration: 1 of max_iter: 10\n",
      "iteration: 2 of max_iter: 10\n",
      "iteration: 3 of max_iter: 10\n",
      "iteration: 4 of max_iter: 10\n",
      "iteration: 5 of max_iter: 10\n",
      "iteration: 6 of max_iter: 10\n",
      "iteration: 7 of max_iter: 10\n",
      "iteration: 8 of max_iter: 10\n",
      "iteration: 9 of max_iter: 10\n",
      "iteration: 10 of max_iter: 10\n"
     ]
    },
    {
     "name": "stderr",
     "output_type": "stream",
     "text": [
      "C:\\Users\\Mike\\AppData\\Local\\Temp\\ipykernel_24528\\177554580.py:30: SettingWithCopyWarning: \n",
      "A value is trying to be set on a copy of a slice from a DataFrame\n",
      "\n",
      "See the caveats in the documentation: https://pandas.pydata.org/pandas-docs/stable/user_guide/indexing.html#returning-a-view-versus-a-copy\n",
      "  cluster_df['subtopic'][cluster_df['topic']==i] = clusters\n"
     ]
    },
    {
     "name": "stdout",
     "output_type": "stream",
     "text": [
      "iteration: 1 of max_iter: 10\n",
      "iteration: 2 of max_iter: 10\n",
      "iteration: 3 of max_iter: 10\n",
      "iteration: 4 of max_iter: 10\n",
      "iteration: 5 of max_iter: 10\n",
      "iteration: 6 of max_iter: 10\n",
      "iteration: 7 of max_iter: 10\n",
      "iteration: 8 of max_iter: 10\n",
      "iteration: 9 of max_iter: 10\n",
      "iteration: 10 of max_iter: 10\n"
     ]
    },
    {
     "name": "stderr",
     "output_type": "stream",
     "text": [
      "C:\\Users\\Mike\\AppData\\Local\\Temp\\ipykernel_24528\\177554580.py:30: SettingWithCopyWarning: \n",
      "A value is trying to be set on a copy of a slice from a DataFrame\n",
      "\n",
      "See the caveats in the documentation: https://pandas.pydata.org/pandas-docs/stable/user_guide/indexing.html#returning-a-view-versus-a-copy\n",
      "  cluster_df['subtopic'][cluster_df['topic']==i] = clusters\n"
     ]
    },
    {
     "name": "stdout",
     "output_type": "stream",
     "text": [
      "iteration: 1 of max_iter: 10\n",
      "iteration: 2 of max_iter: 10\n",
      "iteration: 3 of max_iter: 10\n",
      "iteration: 4 of max_iter: 10\n",
      "iteration: 5 of max_iter: 10\n",
      "iteration: 6 of max_iter: 10\n",
      "iteration: 7 of max_iter: 10\n",
      "iteration: 8 of max_iter: 10\n",
      "iteration: 9 of max_iter: 10\n",
      "iteration: 10 of max_iter: 10\n"
     ]
    },
    {
     "name": "stderr",
     "output_type": "stream",
     "text": [
      "C:\\Users\\Mike\\AppData\\Local\\Temp\\ipykernel_24528\\177554580.py:30: SettingWithCopyWarning: \n",
      "A value is trying to be set on a copy of a slice from a DataFrame\n",
      "\n",
      "See the caveats in the documentation: https://pandas.pydata.org/pandas-docs/stable/user_guide/indexing.html#returning-a-view-versus-a-copy\n",
      "  cluster_df['subtopic'][cluster_df['topic']==i] = clusters\n"
     ]
    },
    {
     "name": "stdout",
     "output_type": "stream",
     "text": [
      "iteration: 1 of max_iter: 10\n",
      "iteration: 2 of max_iter: 10\n",
      "iteration: 3 of max_iter: 10\n",
      "iteration: 4 of max_iter: 10\n",
      "iteration: 5 of max_iter: 10\n",
      "iteration: 6 of max_iter: 10\n",
      "iteration: 7 of max_iter: 10\n",
      "iteration: 8 of max_iter: 10\n",
      "iteration: 9 of max_iter: 10\n",
      "iteration: 10 of max_iter: 10\n",
      "iteration: 1 of max_iter: 10\n",
      "iteration: 2 of max_iter: 10\n",
      "iteration: 3 of max_iter: 10\n",
      "iteration: 4 of max_iter: 10\n"
     ]
    },
    {
     "name": "stderr",
     "output_type": "stream",
     "text": [
      "C:\\Users\\Mike\\AppData\\Local\\Temp\\ipykernel_24528\\177554580.py:30: SettingWithCopyWarning: \n",
      "A value is trying to be set on a copy of a slice from a DataFrame\n",
      "\n",
      "See the caveats in the documentation: https://pandas.pydata.org/pandas-docs/stable/user_guide/indexing.html#returning-a-view-versus-a-copy\n",
      "  cluster_df['subtopic'][cluster_df['topic']==i] = clusters\n"
     ]
    },
    {
     "name": "stdout",
     "output_type": "stream",
     "text": [
      "iteration: 5 of max_iter: 10\n",
      "iteration: 6 of max_iter: 10\n",
      "iteration: 7 of max_iter: 10\n",
      "iteration: 8 of max_iter: 10\n",
      "iteration: 9 of max_iter: 10\n",
      "iteration: 10 of max_iter: 10\n"
     ]
    },
    {
     "name": "stderr",
     "output_type": "stream",
     "text": [
      "C:\\Users\\Mike\\AppData\\Local\\Temp\\ipykernel_24528\\177554580.py:30: SettingWithCopyWarning: \n",
      "A value is trying to be set on a copy of a slice from a DataFrame\n",
      "\n",
      "See the caveats in the documentation: https://pandas.pydata.org/pandas-docs/stable/user_guide/indexing.html#returning-a-view-versus-a-copy\n",
      "  cluster_df['subtopic'][cluster_df['topic']==i] = clusters\n"
     ]
    },
    {
     "name": "stdout",
     "output_type": "stream",
     "text": [
      "iteration: 1 of max_iter: 10\n",
      "iteration: 2 of max_iter: 10\n",
      "iteration: 3 of max_iter: 10\n",
      "iteration: 4 of max_iter: 10\n",
      "iteration: 5 of max_iter: 10\n",
      "iteration: 6 of max_iter: 10\n",
      "iteration: 7 of max_iter: 10\n",
      "iteration: 8 of max_iter: 10\n",
      "iteration: 9 of max_iter: 10\n",
      "iteration: 10 of max_iter: 10\n"
     ]
    },
    {
     "name": "stderr",
     "output_type": "stream",
     "text": [
      "C:\\Users\\Mike\\AppData\\Local\\Temp\\ipykernel_24528\\177554580.py:30: SettingWithCopyWarning: \n",
      "A value is trying to be set on a copy of a slice from a DataFrame\n",
      "\n",
      "See the caveats in the documentation: https://pandas.pydata.org/pandas-docs/stable/user_guide/indexing.html#returning-a-view-versus-a-copy\n",
      "  cluster_df['subtopic'][cluster_df['topic']==i] = clusters\n"
     ]
    }
   ],
   "source": [
    "sub_topic(cluster_df,10)"
   ]
  },
  {
   "cell_type": "code",
   "execution_count": 19,
   "id": "b6c589d3",
   "metadata": {},
   "outputs": [
    {
     "name": "stdout",
     "output_type": "stream",
     "text": [
      "     topic  subtopic                                              words\n",
      "0       -1        -1                                      [letter, car]\n",
      "1       -1        -1                                      [letter, car]\n",
      "2        0         0  [kleianimatieserie, kleine, pinguïn, pingu, co...\n",
      "3        0         1  [pingu, pinguïn, kleine, kleianimatieserie, ho...\n",
      "4        0         2  [compilatie, fragmenten, hoogtepunten, afgelop...\n",
      "..     ...       ...                                                ...\n",
      "97       9         5  [beam, joram, uitzending, aansluitend, kaat, o...\n",
      "98       9         6  [liveverslag, songfestival, junior, finale, ze...\n",
      "99       9         7  [dag, interview, belangrijkste, sportwedstrijd...\n",
      "100      9         8  [latenight, talkshow, muziek, parijs, open, fr...\n",
      "101      9         9  [nieuwskwartier, clip, nieuwe, sterrennl, hit,...\n",
      "\n",
      "[102 rows x 3 columns]\n"
     ]
    }
   ],
   "source": [
    "print(words_subtopic)"
   ]
  },
  {
   "cell_type": "code",
   "execution_count": 25,
   "id": "ca3bbfed",
   "metadata": {},
   "outputs": [],
   "source": [
    "words_subtopic.to_csv('topic_words.csv')"
   ]
  },
  {
   "cell_type": "code",
   "execution_count": 20,
   "id": "81e6d87e",
   "metadata": {},
   "outputs": [
    {
     "name": "stdout",
     "output_type": "stream",
     "text": [
      "                                              description  topic subtopic\n",
      "0       achtste aflevering onze nieuwe dagelijkse seri...      5        9\n",
      "1       alle inschrijvingen slechts geselecteerd audit...      5        9\n",
      "2                                                              0        0\n",
      "3                                                              0        0\n",
      "4       gebeurt inwoners klein zeeuws dorp plotseling ...      4        4\n",
      "...                                                   ...    ...      ...\n",
      "132008  vernielingen diefstal aanrandingen niemand vei...      4        4\n",
      "132009                                                         0        0\n",
      "132010  sjezen vliegtuig halen zulke tsunami zweten ze...      5        4\n",
      "132011                                                         0        0\n",
      "132012  spectaculaire beelden zwolle waar weekend twee...      5        9\n",
      "\n",
      "[132013 rows x 3 columns]\n"
     ]
    }
   ],
   "source": [
    "print(cluster_df)"
   ]
  },
  {
   "cell_type": "code",
   "execution_count": 21,
   "id": "fd89782b",
   "metadata": {},
   "outputs": [
    {
     "data": {
      "text/plain": [
       "0"
      ]
     },
     "execution_count": 21,
     "metadata": {},
     "output_type": "execute_result"
    }
   ],
   "source": [
    "sum(cluster_df['subtopic'].isna())"
   ]
  },
  {
   "cell_type": "code",
   "execution_count": 22,
   "id": "adeccc9b",
   "metadata": {},
   "outputs": [],
   "source": [
    "npo['topic'] = cluster_df['topic']"
   ]
  },
  {
   "cell_type": "code",
   "execution_count": 23,
   "id": "3df71136",
   "metadata": {},
   "outputs": [],
   "source": [
    "npo['subtopic'] = cluster_df['subtopic']"
   ]
  },
  {
   "cell_type": "code",
   "execution_count": 24,
   "id": "dde45ff3",
   "metadata": {},
   "outputs": [],
   "source": [
    "npo.to_csv('NPO_topics.csv')"
   ]
  },
  {
   "cell_type": "code",
   "execution_count": null,
   "id": "210ae605",
   "metadata": {},
   "outputs": [],
   "source": []
  }
 ],
 "metadata": {
  "kernelspec": {
   "display_name": "Python 3 (ipykernel)",
   "language": "python",
   "name": "python3"
  },
  "language_info": {
   "codemirror_mode": {
    "name": "ipython",
    "version": 3
   },
   "file_extension": ".py",
   "mimetype": "text/x-python",
   "name": "python",
   "nbconvert_exporter": "python",
   "pygments_lexer": "ipython3",
   "version": "3.10.9"
  }
 },
 "nbformat": 4,
 "nbformat_minor": 5
}
