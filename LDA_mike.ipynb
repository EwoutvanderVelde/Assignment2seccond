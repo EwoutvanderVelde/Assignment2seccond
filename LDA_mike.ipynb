{
 "cells": [
  {
   "cell_type": "code",
   "execution_count": 1,
   "id": "40c44469",
   "metadata": {},
   "outputs": [],
   "source": [
    "#topic modeling with lda\n",
    "import pandas as pd\n",
    "from tqdm import tqdm\n",
    "tqdm.pandas()"
   ]
  },
  {
   "cell_type": "code",
   "execution_count": 2,
   "id": "42b4b572",
   "metadata": {},
   "outputs": [],
   "source": [
    "npo = pd.read_csv(\"NPOPlayer.csv\", sep=\";\")\n",
    "\n",
    "npo[npo[\"longSummary\"].isna()] = \"\""
   ]
  },
  {
   "cell_type": "code",
   "execution_count": 3,
   "id": "c01ac71d",
   "metadata": {},
   "outputs": [
    {
     "data": {
      "text/plain": [
       "0         https://images.npo.nl/header/2560x1440/1369174...\n",
       "1         https://images.npo.nl/header/2560x1440/752519.jpg\n",
       "2                                                          \n",
       "3                                                          \n",
       "4         https://images.npo.nl/header/2560x1440/557420.jpg\n",
       "                                ...                        \n",
       "132008    https://images.npo.nl/header/2560x1440/890863.jpg\n",
       "132009                                                     \n",
       "132010    https://images.npo.nl/header/2560x1440/1210745...\n",
       "132011                                                     \n",
       "132012                                                  NaN\n",
       "Name: thumbnail, Length: 132013, dtype: object"
      ]
     },
     "execution_count": 3,
     "metadata": {},
     "output_type": "execute_result"
    }
   ],
   "source": [
    "npo['thumbnail']"
   ]
  },
  {
   "cell_type": "code",
   "execution_count": 4,
   "id": "09317956",
   "metadata": {},
   "outputs": [],
   "source": [
    "description = npo['longSummary']"
   ]
  },
  {
   "cell_type": "code",
   "execution_count": 5,
   "id": "559d59ae",
   "metadata": {},
   "outputs": [
    {
     "name": "stdout",
     "output_type": "stream",
     "text": [
      "0         In de achtste aflevering van onze nieuwe dagel...\n",
      "1         Van alle inschrijvingen zijn er slechts 28 ges...\n",
      "2                                                          \n",
      "3                                                          \n",
      "4         Wat gebeurt er met de inwoners van een klein Z...\n",
      "                                ...                        \n",
      "132008    Van vernielingen en diefstal tot aanrandingen,...\n",
      "132009                                                     \n",
      "132010    Sjezen om je vliegtuig te halen en dan zulke t...\n",
      "132011                                                     \n",
      "132012    Spectaculaire beelden uit Zwolle waar dit week...\n",
      "Name: longSummary, Length: 132013, dtype: object\n"
     ]
    }
   ],
   "source": [
    "print(description)"
   ]
  },
  {
   "cell_type": "code",
   "execution_count": 6,
   "id": "d7d68dde",
   "metadata": {},
   "outputs": [
    {
     "name": "stderr",
     "output_type": "stream",
     "text": [
      "[nltk_data] Downloading package stopwords to\n",
      "[nltk_data]     C:\\Users\\evand\\AppData\\Roaming\\nltk_data...\n",
      "[nltk_data]   Package stopwords is already up-to-date!\n",
      "[nltk_data] Downloading package wordnet to\n",
      "[nltk_data]     C:\\Users\\evand\\AppData\\Roaming\\nltk_data...\n",
      "[nltk_data]   Package wordnet is already up-to-date!\n"
     ]
    }
   ],
   "source": [
    "#create function to clean the text\n",
    "import spacy\n",
    "import nltk\n",
    "from nltk.tokenize import word_tokenize \n",
    "from nltk.corpus import stopwords\n",
    "#nlp = spacy.load(\"nl_core_news_sm\")\n",
    "nltk.download('stopwords')\n",
    "nltk.download('wordnet')\n",
    "sw = set(stopwords.words('dutch'))\n",
    "\n",
    "import re\n",
    "import string\n",
    "from nltk.stem import WordNetLemmatizer\n",
    "lemmatizer = WordNetLemmatizer()\n",
    "\n",
    "def clean_text(x):\n",
    "    # remove punctutation\n",
    "    x = x.translate(str.maketrans('','',string.punctuation))\n",
    "    #remove digits\n",
    "    x = x.translate(str.maketrans('','',string.digits))\n",
    "    # tokenize for stopwords\n",
    "    x = word_tokenize(x.lower())\n",
    "    x = [lemmatizer.lemmatize(token) for token in x if token not in sw]\n",
    "    x = ' '.join([w for w in x])\n",
    "    return x"
   ]
  },
  {
   "cell_type": "code",
   "execution_count": 9,
   "id": "ba2a0c5d",
   "metadata": {},
   "outputs": [
    {
     "name": "stderr",
     "output_type": "stream",
     "text": [
      "100%|██████████| 132013/132013 [00:47<00:00, 2795.61it/s]\n"
     ]
    }
   ],
   "source": [
    "description_cleaned = description.progress_apply(clean_text)"
   ]
  },
  {
   "cell_type": "code",
   "execution_count": null,
   "id": "4d01dd4e",
   "metadata": {},
   "outputs": [
    {
     "name": "stdout",
     "output_type": "stream",
     "text": [
      "0         achtste aflevering onze nieuwe dagelijkse seri...\n",
      "1         alle inschrijvingen slechts geselecteerd audit...\n",
      "2                                                          \n",
      "3                                                          \n",
      "4         gebeurt inwoners klein zeeuws dorp plotseling ...\n",
      "                                ...                        \n",
      "132008    vernielingen diefstal aanrandingen niemand vei...\n",
      "132009                                                     \n",
      "132010    sjezen vliegtuig halen zulke tsunami zweten ze...\n",
      "132011                                                     \n",
      "132012    spectaculaire beelden zwolle waar weekend twee...\n",
      "Name: longSummary, Length: 132013, dtype: object\n"
     ]
    }
   ],
   "source": [
    "print(description_cleaned)"
   ]
  },
  {
   "cell_type": "code",
   "execution_count": null,
   "id": "41ffc481",
   "metadata": {},
   "outputs": [],
   "source": [
    "import sklearn\n",
    "from sklearn.feature_extraction.text import TfidfVectorizer\n"
   ]
  },
  {
   "cell_type": "code",
   "execution_count": 10,
   "id": "26863269",
   "metadata": {},
   "outputs": [],
   "source": [
    "import sklearn\n",
    "from sklearn.feature_extraction.text import TfidfVectorizer\n",
    "\n",
    "vectorizer = TfidfVectorizer(min_df=40)\n",
    "tf_idf = vectorizer.fit_transform(description_cleaned)\n",
    "columns=vectorizer.get_feature_names_out()"
   ]
  },
  {
   "cell_type": "code",
   "execution_count": 15,
   "id": "da088276",
   "metadata": {},
   "outputs": [
    {
     "name": "stdout",
     "output_type": "stream",
     "text": [
      "iteration: 1 of max_iter: 10\n",
      "iteration: 2 of max_iter: 10\n",
      "iteration: 3 of max_iter: 10\n",
      "iteration: 4 of max_iter: 10\n",
      "iteration: 5 of max_iter: 10\n",
      "iteration: 6 of max_iter: 10\n",
      "iteration: 7 of max_iter: 10\n",
      "iteration: 8 of max_iter: 10\n",
      "iteration: 9 of max_iter: 10\n",
      "iteration: 10 of max_iter: 10\n"
     ]
    },
    {
     "data": {
      "text/html": [
       "<style>#sk-container-id-1 {color: black;background-color: white;}#sk-container-id-1 pre{padding: 0;}#sk-container-id-1 div.sk-toggleable {background-color: white;}#sk-container-id-1 label.sk-toggleable__label {cursor: pointer;display: block;width: 100%;margin-bottom: 0;padding: 0.3em;box-sizing: border-box;text-align: center;}#sk-container-id-1 label.sk-toggleable__label-arrow:before {content: \"▸\";float: left;margin-right: 0.25em;color: #696969;}#sk-container-id-1 label.sk-toggleable__label-arrow:hover:before {color: black;}#sk-container-id-1 div.sk-estimator:hover label.sk-toggleable__label-arrow:before {color: black;}#sk-container-id-1 div.sk-toggleable__content {max-height: 0;max-width: 0;overflow: hidden;text-align: left;background-color: #f0f8ff;}#sk-container-id-1 div.sk-toggleable__content pre {margin: 0.2em;color: black;border-radius: 0.25em;background-color: #f0f8ff;}#sk-container-id-1 input.sk-toggleable__control:checked~div.sk-toggleable__content {max-height: 200px;max-width: 100%;overflow: auto;}#sk-container-id-1 input.sk-toggleable__control:checked~label.sk-toggleable__label-arrow:before {content: \"▾\";}#sk-container-id-1 div.sk-estimator input.sk-toggleable__control:checked~label.sk-toggleable__label {background-color: #d4ebff;}#sk-container-id-1 div.sk-label input.sk-toggleable__control:checked~label.sk-toggleable__label {background-color: #d4ebff;}#sk-container-id-1 input.sk-hidden--visually {border: 0;clip: rect(1px 1px 1px 1px);clip: rect(1px, 1px, 1px, 1px);height: 1px;margin: -1px;overflow: hidden;padding: 0;position: absolute;width: 1px;}#sk-container-id-1 div.sk-estimator {font-family: monospace;background-color: #f0f8ff;border: 1px dotted black;border-radius: 0.25em;box-sizing: border-box;margin-bottom: 0.5em;}#sk-container-id-1 div.sk-estimator:hover {background-color: #d4ebff;}#sk-container-id-1 div.sk-parallel-item::after {content: \"\";width: 100%;border-bottom: 1px solid gray;flex-grow: 1;}#sk-container-id-1 div.sk-label:hover label.sk-toggleable__label {background-color: #d4ebff;}#sk-container-id-1 div.sk-serial::before {content: \"\";position: absolute;border-left: 1px solid gray;box-sizing: border-box;top: 0;bottom: 0;left: 50%;z-index: 0;}#sk-container-id-1 div.sk-serial {display: flex;flex-direction: column;align-items: center;background-color: white;padding-right: 0.2em;padding-left: 0.2em;position: relative;}#sk-container-id-1 div.sk-item {position: relative;z-index: 1;}#sk-container-id-1 div.sk-parallel {display: flex;align-items: stretch;justify-content: center;background-color: white;position: relative;}#sk-container-id-1 div.sk-item::before, #sk-container-id-1 div.sk-parallel-item::before {content: \"\";position: absolute;border-left: 1px solid gray;box-sizing: border-box;top: 0;bottom: 0;left: 50%;z-index: -1;}#sk-container-id-1 div.sk-parallel-item {display: flex;flex-direction: column;z-index: 1;position: relative;background-color: white;}#sk-container-id-1 div.sk-parallel-item:first-child::after {align-self: flex-end;width: 50%;}#sk-container-id-1 div.sk-parallel-item:last-child::after {align-self: flex-start;width: 50%;}#sk-container-id-1 div.sk-parallel-item:only-child::after {width: 0;}#sk-container-id-1 div.sk-dashed-wrapped {border: 1px dashed gray;margin: 0 0.4em 0.5em 0.4em;box-sizing: border-box;padding-bottom: 0.4em;background-color: white;}#sk-container-id-1 div.sk-label label {font-family: monospace;font-weight: bold;display: inline-block;line-height: 1.2em;}#sk-container-id-1 div.sk-label-container {text-align: center;}#sk-container-id-1 div.sk-container {/* jupyter's `normalize.less` sets `[hidden] { display: none; }` but bootstrap.min.css set `[hidden] { display: none !important; }` so we also need the `!important` here to be able to override the default hidden behavior on the sphinx rendered scikit-learn.org. See: https://github.com/scikit-learn/scikit-learn/issues/21755 */display: inline-block !important;position: relative;}#sk-container-id-1 div.sk-text-repr-fallback {display: none;}</style><div id=\"sk-container-id-1\" class=\"sk-top-container\"><div class=\"sk-text-repr-fallback\"><pre>LatentDirichletAllocation(learning_method=&#x27;online&#x27;, n_jobs=16, verbose=1)</pre><b>In a Jupyter environment, please rerun this cell to show the HTML representation or trust the notebook. <br />On GitHub, the HTML representation is unable to render, please try loading this page with nbviewer.org.</b></div><div class=\"sk-container\" hidden><div class=\"sk-item\"><div class=\"sk-estimator sk-toggleable\"><input class=\"sk-toggleable__control sk-hidden--visually\" id=\"sk-estimator-id-1\" type=\"checkbox\" checked><label for=\"sk-estimator-id-1\" class=\"sk-toggleable__label sk-toggleable__label-arrow\">LatentDirichletAllocation</label><div class=\"sk-toggleable__content\"><pre>LatentDirichletAllocation(learning_method=&#x27;online&#x27;, n_jobs=16, verbose=1)</pre></div></div></div></div></div>"
      ],
      "text/plain": [
       "LatentDirichletAllocation(learning_method='online', n_jobs=16, verbose=1)"
      ]
     },
     "execution_count": 15,
     "metadata": {},
     "output_type": "execute_result"
    }
   ],
   "source": [
    "from sklearn.decomposition import LatentDirichletAllocation\n",
    "n_topics = 10\n",
    "lda_npo = LatentDirichletAllocation(n_components=n_topics, learning_method='online', n_jobs=24, verbose=1)\n",
    "lda_npo.fit(tf_idf)"
   ]
  },
  {
   "cell_type": "code",
   "execution_count": 16,
   "id": "11d03b31",
   "metadata": {},
   "outputs": [
    {
     "data": {
      "text/plain": [
       "['lda_npo.joblib']"
      ]
     },
     "execution_count": 16,
     "metadata": {},
     "output_type": "execute_result"
    }
   ],
   "source": [
    "from joblib import dump, load\n",
    "dump(lda_npo, 'lda_npo.joblib') "
   ]
  },
  {
   "cell_type": "code",
   "execution_count": 21,
   "id": "4a6d9f89",
   "metadata": {},
   "outputs": [
    {
     "data": {
      "text/plain": [
       "array([[0.01464322, 0.01464322, 0.01464322, ..., 0.01464322, 0.01464965,\n",
       "        0.01464412],\n",
       "       [0.23977512, 0.0266702 , 0.0266702 , ..., 0.0266702 , 0.0266702 ,\n",
       "        0.0266702 ],\n",
       "       [0.1       , 0.1       , 0.1       , ..., 0.1       , 0.1       ,\n",
       "        0.1       ],\n",
       "       ...,\n",
       "       [0.02375913, 0.02375913, 0.02375913, ..., 0.02375913, 0.02375913,\n",
       "        0.02375913],\n",
       "       [0.1       , 0.1       , 0.1       , ..., 0.1       , 0.1       ,\n",
       "        0.1       ],\n",
       "       [0.0244851 , 0.0244851 , 0.0244851 , ..., 0.0244851 , 0.0244851 ,\n",
       "        0.0244851 ]])"
      ]
     },
     "execution_count": 21,
     "metadata": {},
     "output_type": "execute_result"
    }
   ],
   "source": [
    "lda_npo.transform(tf_idf)"
   ]
  },
  {
   "cell_type": "code",
   "execution_count": 25,
   "id": "f4d2954b",
   "metadata": {},
   "outputs": [],
   "source": [
    "terms = vectorizer.get_feature_names_out()\n",
    "def df_lda(model,terms,n_topics):\n",
    "    df = pd.DataFrame(model.components_, columns=terms)\n",
    "    df = df.T\n",
    "    for topic in range(n_topics):\n",
    "        df_topic = df[topic]\n",
    "        print('topic',topic,'top words are:\\n',df[topic].sort_values(ascending=False)[:15])"
   ]
  },
  {
   "cell_type": "code",
   "execution_count": 26,
   "id": "06e10fb5",
   "metadata": {},
   "outputs": [
    {
     "name": "stdout",
     "output_type": "stream",
     "text": [
      "topic 0 top words are:\n",
      " animatieserie    284.727280\n",
      "kid              270.818997\n",
      "online           123.786365\n",
      "populairste      120.234795\n",
      "weerreportage    112.247597\n",
      "stijgers         107.386394\n",
      "ieniemienie       94.643754\n",
      "dier              80.619046\n",
      "paradeplaat       74.548310\n",
      "samson            70.581383\n",
      "timmy             68.373913\n",
      "eend              64.511986\n",
      "grappige          62.487640\n",
      "daagt             61.496344\n",
      "geschikte         55.147630\n",
      "Name: 0, dtype: float64\n",
      "topic 1 top words are:\n",
      " zappie               1063.709460\n",
      "knuffel               539.962252\n",
      "vrolijk               439.924360\n",
      "evenementen           327.789263\n",
      "kleuterprogramma      327.120300\n",
      "sportwedstrijden      313.858756\n",
      "enof                  283.668532\n",
      "hoep                  212.133756\n",
      "hoela                 171.187528\n",
      "expert                135.376070\n",
      "quiz                  120.666432\n",
      "kortste               115.382054\n",
      "jackie                102.002067\n",
      "tentoonstellingen      88.165372\n",
      "jasper                 85.264516\n",
      "Name: 1, dtype: float64\n",
      "topic 2 top words are:\n",
      " kleuters              344.996105\n",
      "filmpjes              222.805869\n",
      "tip                   182.376955\n",
      "uitgelegd             158.414875\n",
      "sesamstraatfiguren    145.442440\n",
      "naarmate              116.612611\n",
      "onderwijs             101.422102\n",
      "bank                   96.098326\n",
      "lockdown               94.763201\n",
      "roer                   90.076130\n",
      "dobbelsteen            88.148148\n",
      "betoog                 86.347927\n",
      "ruben                  85.199362\n",
      "sporttoernooien        85.139148\n",
      "trick                  83.304940\n",
      "Name: 2, dtype: float64\n",
      "topic 3 top words are:\n",
      " we           1643.500168\n",
      "fenna        1579.928607\n",
      "jaar         1111.899350\n",
      "gaat         1093.364777\n",
      "waar         1058.094170\n",
      "leven         906.917182\n",
      "saman         873.706388\n",
      "gast          843.920541\n",
      "gaan          812.490893\n",
      "nederland     806.308530\n",
      "nieuwe        768.489262\n",
      "mensen        751.189758\n",
      "kinderen      737.129149\n",
      "vertelt       730.213749\n",
      "komt          715.470969\n",
      "Name: 3, dtype: float64\n",
      "topic 4 top words are:\n",
      " samenvattingen           594.113630\n",
      "move                     273.019404\n",
      "sportprobleem            268.745084\n",
      "eredivisieduels          265.921726\n",
      "sportmagazine            244.302897\n",
      "supersnel                156.783292\n",
      "sporttalent              155.861444\n",
      "sporttricks              155.192848\n",
      "moffel                   141.644696\n",
      "gespeelde                121.781755\n",
      "piertje                  115.265543\n",
      "tommie                   105.241379\n",
      "uitdager                  97.137974\n",
      "eredivisiewedstrijden     85.354666\n",
      "amerikadeskundige         69.916504\n",
      "Name: 4, dtype: float64\n",
      "topic 5 top words are:\n",
      " nieuws           2528.972356\n",
      "dag              1855.755531\n",
      "weer             1371.509814\n",
      "laatste          1265.858496\n",
      "reportage        1105.605788\n",
      "belangrijkste     988.012614\n",
      "kijker            961.121002\n",
      "sport             928.383493\n",
      "jonge             909.890246\n",
      "programma         869.540808\n",
      "binnen            862.133385\n",
      "entertainment     808.157130\n",
      "actuele           760.966203\n",
      "speciaal          756.551311\n",
      "buitenland        739.358784\n",
      "Name: 5, dtype: float64\n",
      "topic 6 top words are:\n",
      " sportnieuws         947.820549\n",
      "helft               203.666880\n",
      "muziekprogramma     196.417391\n",
      "gast                 86.419186\n",
      "liederen             83.161362\n",
      "staatssecretaris     79.362554\n",
      "maarten              77.671901\n",
      "monster              70.716734\n",
      "gijs                 59.781974\n",
      "donald               58.052932\n",
      "volk                 56.552348\n",
      "charismatisch        53.567899\n",
      "gloedvol             53.514712\n",
      "ellian               53.026637\n",
      "wilder               51.283356\n",
      "Name: 6, dtype: float64\n",
      "topic 7 top words are:\n",
      " lef                 149.787131\n",
      "finale              132.947899\n",
      "andré               122.915030\n",
      "uiteenlopende       119.684444\n",
      "ekduel              114.991290\n",
      "eman                112.202432\n",
      "mo                  111.051589\n",
      "otis                103.189685\n",
      "wedstrijdanalyse    102.735727\n",
      "ramin                99.291668\n",
      "filiz                93.281537\n",
      "pino                 91.317547\n",
      "naomi                78.325686\n",
      "halve                77.307875\n",
      "damstra              73.026330\n",
      "Name: 7, dtype: float64\n",
      "topic 8 top words are:\n",
      " gasten                646.530229\n",
      "latenight             591.707751\n",
      "live                  567.676966\n",
      "amsterdam             554.055372\n",
      "vanuit                541.043096\n",
      "verkeersinformatie    474.501602\n",
      "copresentatrice       474.501602\n",
      "liveverslag           414.831236\n",
      "dylan                 181.723537\n",
      "aanbevolen            176.310259\n",
      "mol                   161.816953\n",
      "studio                145.449176\n",
      "maas                  111.736251\n",
      "coronavirus            99.650527\n",
      "cornald                92.711788\n",
      "Name: 8, dtype: float64\n",
      "topic 9 top words are:\n",
      " hopen                       138.541909\n",
      "songfestival                114.085466\n",
      "diederik                    108.469800\n",
      "marie                        96.853993\n",
      "accent                       91.471763\n",
      "pip                          90.337071\n",
      "trucs                        88.796268\n",
      "marcel                       80.932752\n",
      "junior                       72.250102\n",
      "timo                         69.965470\n",
      "rick                         68.779884\n",
      "bewindspersoon               64.127836\n",
      "dinsdagmiddagvergadering     64.127731\n",
      "boswachter                   61.808682\n",
      "rutger                       59.696455\n",
      "Name: 9, dtype: float64\n",
      "None\n"
     ]
    }
   ],
   "source": [
    "print(df_lda(lda_npo, terms,n_topics))"
   ]
  },
  {
   "cell_type": "code",
   "execution_count": null,
   "id": "7c78c2b4",
   "metadata": {},
   "outputs": [],
   "source": [
    "# topics\n",
    "\"\"\"\n",
    "1: culture\n",
    "2: \n",
    "3: \n",
    "4: children programming\n",
    "5: \n",
    "6: \n",
    "7:\n",
    "8:\n",
    "9: \n",
    "10: \n",
    "\"\"\"\n"
   ]
  }
 ],
 "metadata": {
  "kernelspec": {
   "display_name": "Python 3 (ipykernel)",
   "language": "python",
   "name": "python3"
  },
  "language_info": {
   "codemirror_mode": {
    "name": "ipython",
    "version": 3
   },
   "file_extension": ".py",
   "mimetype": "text/x-python",
   "name": "python",
   "nbconvert_exporter": "python",
   "pygments_lexer": "ipython3",
   "version": "3.10.9"
  }
 },
 "nbformat": 4,
 "nbformat_minor": 5
}
