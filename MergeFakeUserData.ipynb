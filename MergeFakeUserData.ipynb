{
 "cells": [
  {
   "cell_type": "code",
   "execution_count": 14,
   "metadata": {},
   "outputs": [],
   "source": [
    "import json \n",
    "import pandas as pd"
   ]
  },
  {
   "cell_type": "code",
   "execution_count": 7,
   "metadata": {},
   "outputs": [],
   "source": [
    "with open('FakeUserData/activitiesFemke.json') as json_file:\n",
    "    users_activities = json.load(json_file)"
   ]
  },
  {
   "cell_type": "code",
   "execution_count": 21,
   "metadata": {},
   "outputs": [],
   "source": [
    "df1 = pd.read_json(\"FakeUserData/activitiesFemke.json\")\n",
    "df2 = pd.read_json(\"FakeUserData/activitiesLena.json\")\n",
    "df3 = pd.read_json(\"FakeUserData/activitiesMaarten.json\")\n",
    "df4 = pd.read_json(\"FakeUserData/activitiesMariaenZak.json\")\n",
    "#df5 = pd.read_json(\"FakeUserData/activitiesFemke.json\")"
   ]
  },
  {
   "cell_type": "code",
   "execution_count": 19,
   "metadata": {},
   "outputs": [
    {
     "data": {
      "text/html": [
       "<div>\n",
       "<style scoped>\n",
       "    .dataframe tbody tr th:only-of-type {\n",
       "        vertical-align: middle;\n",
       "    }\n",
       "\n",
       "    .dataframe tbody tr th {\n",
       "        vertical-align: top;\n",
       "    }\n",
       "\n",
       "    .dataframe thead th {\n",
       "        text-align: right;\n",
       "    }\n",
       "</style>\n",
       "<table border=\"1\" class=\"dataframe\">\n",
       "  <thead>\n",
       "    <tr style=\"text-align: right;\">\n",
       "      <th></th>\n",
       "      <th>content_id</th>\n",
       "      <th>rating</th>\n",
       "      <th>user_id</th>\n",
       "      <th>datetime</th>\n",
       "    </tr>\n",
       "  </thead>\n",
       "  <tbody>\n",
       "    <tr>\n",
       "      <th>0</th>\n",
       "      <td>VPWON_1319989</td>\n",
       "      <td>4</td>\n",
       "      <td>femke1</td>\n",
       "      <td>2023-03-31 11:47:46.826689</td>\n",
       "    </tr>\n",
       "    <tr>\n",
       "      <th>1</th>\n",
       "      <td>VPWON_1197680</td>\n",
       "      <td>3</td>\n",
       "      <td>femke1</td>\n",
       "      <td>2023-03-31 11:49:10.123557</td>\n",
       "    </tr>\n",
       "    <tr>\n",
       "      <th>2</th>\n",
       "      <td>VPWON_1197680</td>\n",
       "      <td>4</td>\n",
       "      <td>femke1</td>\n",
       "      <td>2023-03-31 11:49:12.608485</td>\n",
       "    </tr>\n",
       "    <tr>\n",
       "      <th>3</th>\n",
       "      <td>VPWON_1295416</td>\n",
       "      <td>5</td>\n",
       "      <td>femke1</td>\n",
       "      <td>2023-03-31 11:52:52.144806</td>\n",
       "    </tr>\n",
       "    <tr>\n",
       "      <th>4</th>\n",
       "      <td>VPWON_1310212</td>\n",
       "      <td>4</td>\n",
       "      <td>femke1</td>\n",
       "      <td>2023-03-31 11:53:21.703564</td>\n",
       "    </tr>\n",
       "    <tr>\n",
       "      <th>...</th>\n",
       "      <td>...</td>\n",
       "      <td>...</td>\n",
       "      <td>...</td>\n",
       "      <td>...</td>\n",
       "    </tr>\n",
       "    <tr>\n",
       "      <th>166</th>\n",
       "      <td>VPWON_1257907</td>\n",
       "      <td>4</td>\n",
       "      <td>femke10</td>\n",
       "      <td>2023-03-31 16:52:51.283018</td>\n",
       "    </tr>\n",
       "    <tr>\n",
       "      <th>167</th>\n",
       "      <td>VPWON_1238476</td>\n",
       "      <td>no rating</td>\n",
       "      <td>femke10</td>\n",
       "      <td>2023-03-31 16:54:29.325468</td>\n",
       "    </tr>\n",
       "    <tr>\n",
       "      <th>168</th>\n",
       "      <td>VPWON_1238476</td>\n",
       "      <td>4</td>\n",
       "      <td>femke10</td>\n",
       "      <td>2023-03-31 16:54:34.736525</td>\n",
       "    </tr>\n",
       "    <tr>\n",
       "      <th>169</th>\n",
       "      <td>VPWON_1315855</td>\n",
       "      <td>3</td>\n",
       "      <td>femke10</td>\n",
       "      <td>2023-03-31 16:55:32.430902</td>\n",
       "    </tr>\n",
       "    <tr>\n",
       "      <th>170</th>\n",
       "      <td>VPWON_1315858</td>\n",
       "      <td>4</td>\n",
       "      <td>femke10</td>\n",
       "      <td>2023-03-31 16:56:19.388882</td>\n",
       "    </tr>\n",
       "  </tbody>\n",
       "</table>\n",
       "<p>171 rows × 4 columns</p>\n",
       "</div>"
      ],
      "text/plain": [
       "        content_id     rating  user_id                   datetime\n",
       "0    VPWON_1319989          4   femke1 2023-03-31 11:47:46.826689\n",
       "1    VPWON_1197680          3   femke1 2023-03-31 11:49:10.123557\n",
       "2    VPWON_1197680          4   femke1 2023-03-31 11:49:12.608485\n",
       "3    VPWON_1295416          5   femke1 2023-03-31 11:52:52.144806\n",
       "4    VPWON_1310212          4   femke1 2023-03-31 11:53:21.703564\n",
       "..             ...        ...      ...                        ...\n",
       "166  VPWON_1257907          4  femke10 2023-03-31 16:52:51.283018\n",
       "167  VPWON_1238476  no rating  femke10 2023-03-31 16:54:29.325468\n",
       "168  VPWON_1238476          4  femke10 2023-03-31 16:54:34.736525\n",
       "169  VPWON_1315855          3  femke10 2023-03-31 16:55:32.430902\n",
       "170  VPWON_1315858          4  femke10 2023-03-31 16:56:19.388882\n",
       "\n",
       "[171 rows x 4 columns]"
      ]
     },
     "execution_count": 19,
     "metadata": {},
     "output_type": "execute_result"
    }
   ],
   "source": [
    "df1"
   ]
  },
  {
   "cell_type": "code",
   "execution_count": 22,
   "metadata": {},
   "outputs": [],
   "source": [
    "res = pd.concat([df1,df2,df3,df4], axis=0, ignore_index=True)"
   ]
  },
  {
   "cell_type": "code",
   "execution_count": 26,
   "metadata": {},
   "outputs": [],
   "source": [
    "res.to_json(\"test.json\")"
   ]
  }
 ],
 "metadata": {
  "kernelspec": {
   "display_name": "INFOMPPM",
   "language": "python",
   "name": "python3"
  },
  "language_info": {
   "codemirror_mode": {
    "name": "ipython",
    "version": 3
   },
   "file_extension": ".py",
   "mimetype": "text/x-python",
   "name": "python",
   "nbconvert_exporter": "python",
   "pygments_lexer": "ipython3",
   "version": "3.10.9"
  },
  "orig_nbformat": 4
 },
 "nbformat": 4,
 "nbformat_minor": 2
}
