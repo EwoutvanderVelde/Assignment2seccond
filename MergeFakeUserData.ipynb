{
 "cells": [
  {
   "attachments": {},
   "cell_type": "markdown",
   "metadata": {},
   "source": [
    "File to merge al the generated fake user data (merging json files)"
   ]
  },
  {
   "cell_type": "code",
   "execution_count": 1,
   "metadata": {},
   "outputs": [],
   "source": [
    "import json \n",
    "import pandas as pd"
   ]
  },
  {
   "cell_type": "code",
   "execution_count": 2,
   "metadata": {},
   "outputs": [],
   "source": [
    "df1 = pd.read_json(\"data/FakeUserData/activitiesFemke.json\")\n",
    "df2 = pd.read_json(\"data/FakeUserData/activitiesLena.json\")\n",
    "df3 = pd.read_json(\"data/FakeUserData/activitiesMaarten.json\")\n",
    "df4 = pd.read_json(\"data/FakeUserData/activitiesMariaenZak.json\")\n",
    "df5 = pd.read_json(\"data/FakeUserData/activitiesHarm.json\")"
   ]
  },
  {
   "cell_type": "code",
   "execution_count": 3,
   "metadata": {},
   "outputs": [],
   "source": [
    "FakeUserData = pd.concat([df1,df2,df3,df4,df5], axis=0, ignore_index=True)"
   ]
  },
  {
   "cell_type": "code",
   "execution_count": 4,
   "metadata": {},
   "outputs": [],
   "source": [
    "FakeUserData.to_dict(orient= 'records')\n",
    "FakeUserData.to_json(\"Streamlit/data/activities.json\", orient='records')"
   ]
  },
  {
   "cell_type": "code",
   "execution_count": null,
   "metadata": {},
   "outputs": [],
   "source": []
  }
 ],
 "metadata": {
  "kernelspec": {
   "display_name": "INFOMPPM",
   "language": "python",
   "name": "python3"
  },
  "language_info": {
   "codemirror_mode": {
    "name": "ipython",
    "version": 3
   },
   "file_extension": ".py",
   "mimetype": "text/x-python",
   "name": "python",
   "nbconvert_exporter": "python",
   "pygments_lexer": "ipython3",
   "version": "3.10.9"
  },
  "orig_nbformat": 4
 },
 "nbformat": 4,
 "nbformat_minor": 2
}
