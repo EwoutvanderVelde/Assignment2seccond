{
 "cells": [
  {
   "cell_type": "code",
   "execution_count": 8,
   "metadata": {},
   "outputs": [],
   "source": [
    "import pandas as pd\n",
    "from tqdm import tqdm\n",
    "tqdm.pandas()\n",
    "import json"
   ]
  },
  {
   "cell_type": "code",
   "execution_count": 9,
   "metadata": {},
   "outputs": [],
   "source": [
    "df = pd.read_csv(\"streamlit/data/NPOPlayerv2.csv\")"
   ]
  },
  {
   "cell_type": "code",
   "execution_count": 10,
   "metadata": {},
   "outputs": [
    {
     "name": "stderr",
     "output_type": "stream",
     "text": [
      "4830it [00:00, 8456.98it/s]\n"
     ]
    },
    {
     "data": {
      "text/plain": [
       "4830"
      ]
     },
     "execution_count": 10,
     "metadata": {},
     "output_type": "execute_result"
    }
   ],
   "source": [
    "mediaID_MainTitleTokens = {}\n",
    "mediaID_summaryTokens = {}\n",
    "\n",
    "for index, row in tqdm(df.iterrows()):\n",
    "    mediaID_MainTitleTokens[row[\"mediaID\"]] = str(row[\"mainTitle\"]).lower().split(\" \")\n",
    "    mediaID_summaryTokens[row[\"mediaID\"]] = list(set((str(row[\"longSummary\"])+ \" \" + str(row[\"shortSummary\"])).lower().split(\" \")))\n",
    "#mediaID_MainTitleTokens\n",
    "len(mediaID_summaryTokens)"
   ]
  },
  {
   "cell_type": "code",
   "execution_count": 11,
   "metadata": {},
   "outputs": [],
   "source": [
    "mainTitle_mainTileTokens = {}\n",
    "for mainTile in df[\"mainTitle\"].unique():\n",
    "    mainTitle_mainTileTokens[mainTile] = mainTile.lower().split(\" \")"
   ]
  },
  {
   "cell_type": "code",
   "execution_count": 12,
   "metadata": {},
   "outputs": [],
   "source": [
    "def save_activities():\n",
    "    with open('streamlit/data/mainTitle_mainTitleTokens.json', 'w') as outfile:\n",
    "        json.dump(mainTitle_mainTileTokens, outfile)\n",
    "save_activities()\n"
   ]
  },
  {
   "cell_type": "code",
   "execution_count": 13,
   "metadata": {},
   "outputs": [],
   "source": [
    "def save_activities():\n",
    "    with open('streamlit/data/mediaID_MainTitleTokens.json', 'w') as outfile:\n",
    "        json.dump(mediaID_MainTitleTokens, outfile)\n",
    "save_activities()\n"
   ]
  },
  {
   "cell_type": "code",
   "execution_count": 14,
   "metadata": {},
   "outputs": [
    {
     "data": {
      "text/plain": [
       "\" DEPRECIATED\\ndef save_activities():\\n    with open('streamlit/data/mediaID_summaryTokens.json', 'w') as outfile:\\n        json.dump(mediaID_summaryTokens, outfile)\\nsave_activities()\\n\""
      ]
     },
     "execution_count": 14,
     "metadata": {},
     "output_type": "execute_result"
    }
   ],
   "source": [
    "\"\"\" DEPRECIATED\n",
    "def save_activities():\n",
    "    with open('streamlit/data/mediaID_summaryTokens.json', 'w') as outfile:\n",
    "        json.dump(mediaID_summaryTokens, outfile)\n",
    "save_activities()\n",
    "\"\"\""
   ]
  },
  {
   "cell_type": "code",
   "execution_count": null,
   "metadata": {},
   "outputs": [],
   "source": []
  }
 ],
 "metadata": {
  "kernelspec": {
   "display_name": "INFOMPPM",
   "language": "python",
   "name": "python3"
  },
  "language_info": {
   "codemirror_mode": {
    "name": "ipython",
    "version": 3
   },
   "file_extension": ".py",
   "mimetype": "text/x-python",
   "name": "python",
   "nbconvert_exporter": "python",
   "pygments_lexer": "ipython3",
   "version": "3.10.9"
  },
  "orig_nbformat": 4
 },
 "nbformat": 4,
 "nbformat_minor": 2
}
