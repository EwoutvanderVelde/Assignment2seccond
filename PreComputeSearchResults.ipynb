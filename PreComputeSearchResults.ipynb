{
 "cells": [
  {
   "cell_type": "code",
   "execution_count": 1,
   "metadata": {},
   "outputs": [],
   "source": [
    "import pandas as pd\n",
    "from tqdm import tqdm\n",
    "tqdm.pandas()\n",
    "import json"
   ]
  },
  {
   "cell_type": "code",
   "execution_count": 2,
   "metadata": {},
   "outputs": [],
   "source": [
    "df = pd.read_csv(\"NPOPlayer.csv\", sep=\";\")"
   ]
  },
  {
   "cell_type": "code",
   "execution_count": 18,
   "metadata": {},
   "outputs": [
    {
     "data": {
      "text/html": [
       "<div>\n",
       "<style scoped>\n",
       "    .dataframe tbody tr th:only-of-type {\n",
       "        vertical-align: middle;\n",
       "    }\n",
       "\n",
       "    .dataframe tbody tr th {\n",
       "        vertical-align: top;\n",
       "    }\n",
       "\n",
       "    .dataframe thead th {\n",
       "        text-align: right;\n",
       "    }\n",
       "</style>\n",
       "<table border=\"1\" class=\"dataframe\">\n",
       "  <thead>\n",
       "    <tr style=\"text-align: right;\">\n",
       "      <th></th>\n",
       "      <th>Unnamed: 0</th>\n",
       "      <th>mediaID</th>\n",
       "      <th>mainTitle</th>\n",
       "      <th>broadcaster</th>\n",
       "      <th>longSummary</th>\n",
       "      <th>shortSummary</th>\n",
       "      <th>icons</th>\n",
       "      <th>subTitle</th>\n",
       "      <th>thumbnail</th>\n",
       "      <th>kids</th>\n",
       "      <th>shareLink</th>\n",
       "    </tr>\n",
       "  </thead>\n",
       "  <tbody>\n",
       "    <tr>\n",
       "      <th>0</th>\n",
       "      <td>0</td>\n",
       "      <td>POMS_BV_16059067</td>\n",
       "      <td>Kinderen voor Kinderen</td>\n",
       "      <td>BNNVARA</td>\n",
       "      <td>In de achtste aflevering van onze nieuwe dagel...</td>\n",
       "      <td>In de achtste aflevering van onze nieuwe dagel...</td>\n",
       "      <td>NaN</td>\n",
       "      <td>1 apr 2020 10:00 - Seizoen 23 Afl.  - 1 april...</td>\n",
       "      <td>https://images.npo.nl/header/2560x1440/1369174...</td>\n",
       "      <td>False</td>\n",
       "      <td>https://www.npostart.nl/POMS_BV_16059067</td>\n",
       "    </tr>\n",
       "  </tbody>\n",
       "</table>\n",
       "</div>"
      ],
      "text/plain": [
       "   Unnamed: 0           mediaID               mainTitle broadcaster  \\\n",
       "0           0  POMS_BV_16059067  Kinderen voor Kinderen     BNNVARA   \n",
       "\n",
       "                                         longSummary  \\\n",
       "0  In de achtste aflevering van onze nieuwe dagel...   \n",
       "\n",
       "                                        shortSummary icons  \\\n",
       "0  In de achtste aflevering van onze nieuwe dagel...   NaN   \n",
       "\n",
       "                                            subTitle  \\\n",
       "0   1 apr 2020 10:00 - Seizoen 23 Afl.  - 1 april...   \n",
       "\n",
       "                                           thumbnail   kids  \\\n",
       "0  https://images.npo.nl/header/2560x1440/1369174...  False   \n",
       "\n",
       "                                  shareLink  \n",
       "0  https://www.npostart.nl/POMS_BV_16059067  "
      ]
     },
     "execution_count": 18,
     "metadata": {},
     "output_type": "execute_result"
    }
   ],
   "source": [
    "df.head(1)\n"
   ]
  },
  {
   "cell_type": "code",
   "execution_count": 3,
   "metadata": {},
   "outputs": [
    {
     "name": "stderr",
     "output_type": "stream",
     "text": [
      "132013it [00:14, 9104.93it/s] \n"
     ]
    },
    {
     "data": {
      "text/plain": [
       "132013"
      ]
     },
     "execution_count": 3,
     "metadata": {},
     "output_type": "execute_result"
    }
   ],
   "source": [
    "mediaID_MainTitleTokens = {}\n",
    "mediaID_summaryTokens = {}\n",
    "\n",
    "for index, row in tqdm(df.iterrows()):\n",
    "    mediaID_MainTitleTokens[row[\"mediaID\"]] = str(row[\"mainTitle\"]).lower().split(\" \")\n",
    "    mediaID_summaryTokens[row[\"mediaID\"]] = list(set((str(row[\"longSummary\"])+ \" \" + str(row[\"shortSummary\"])).lower().split(\" \")))\n",
    "#mediaID_MainTitleTokens\n",
    "len(mediaID_summaryTokens)"
   ]
  },
  {
   "cell_type": "code",
   "execution_count": null,
   "metadata": {},
   "outputs": [],
   "source": [
    "def save_activities():\n",
    "    with open('mediaID_MainTitleTokens.json', 'w') as outfile:\n",
    "        json.dump(mediaID_MainTitleTokens, outfile)\n",
    "save_activities()\n"
   ]
  },
  {
   "cell_type": "code",
   "execution_count": 4,
   "metadata": {},
   "outputs": [],
   "source": [
    "def save_activities():\n",
    "    with open('mediaID_summaryTokens.json', 'w') as outfile:\n",
    "        json.dump(mediaID_summaryTokens, outfile)\n",
    "save_activities()"
   ]
  },
  {
   "cell_type": "code",
   "execution_count": null,
   "metadata": {},
   "outputs": [],
   "source": []
  }
 ],
 "metadata": {
  "kernelspec": {
   "display_name": "INFOMPPM",
   "language": "python",
   "name": "python3"
  },
  "language_info": {
   "codemirror_mode": {
    "name": "ipython",
    "version": 3
   },
   "file_extension": ".py",
   "mimetype": "text/x-python",
   "name": "python",
   "nbconvert_exporter": "python",
   "pygments_lexer": "ipython3",
   "version": "3.10.9"
  },
  "orig_nbformat": 4
 },
 "nbformat": 4,
 "nbformat_minor": 2
}
