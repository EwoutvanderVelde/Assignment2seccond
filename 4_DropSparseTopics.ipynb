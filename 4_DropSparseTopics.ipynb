{
 "cells": [
  {
   "cell_type": "code",
   "execution_count": 39,
   "metadata": {},
   "outputs": [],
   "source": [
    "import pandas as pd\n",
    "from tqdm import tqdm"
   ]
  },
  {
   "cell_type": "code",
   "execution_count": 40,
   "metadata": {},
   "outputs": [],
   "source": [
    "df_topics = pd.read_csv(\"data/NPO_topics.csv\").drop(columns=['Unnamed: 0.1', 'Unnamed: 0',\"icons\"]).dropna()\n",
    "df_topics['Topic'] = (df_topics['topic'].astype(str) + df_topics['subtopic'].astype(str)).astype(int)\n",
    "df_topics.drop(columns=['topic', 'subtopic', 'kids'], inplace=True)\n",
    "\n",
    "df_seasons = pd.read_csv(\"data/NPO_mike.csv\")\n",
    "df_seasons = df_seasons[[\"mediaID\", \"season\"]]\n",
    "df_result = pd.merge(df_topics, df_seasons).dropna().sample(5000)\n"
   ]
  },
  {
   "cell_type": "code",
   "execution_count": 41,
   "metadata": {},
   "outputs": [
    {
     "data": {
      "text/html": [
       "<div>\n",
       "<style scoped>\n",
       "    .dataframe tbody tr th:only-of-type {\n",
       "        vertical-align: middle;\n",
       "    }\n",
       "\n",
       "    .dataframe tbody tr th {\n",
       "        vertical-align: top;\n",
       "    }\n",
       "\n",
       "    .dataframe thead th {\n",
       "        text-align: right;\n",
       "    }\n",
       "</style>\n",
       "<table border=\"1\" class=\"dataframe\">\n",
       "  <thead>\n",
       "    <tr style=\"text-align: right;\">\n",
       "      <th></th>\n",
       "      <th>mediaID</th>\n",
       "      <th>mainTitle</th>\n",
       "      <th>broadcaster</th>\n",
       "      <th>longSummary</th>\n",
       "      <th>shortSummary</th>\n",
       "      <th>subTitle</th>\n",
       "      <th>thumbnail</th>\n",
       "      <th>shareLink</th>\n",
       "      <th>Topic</th>\n",
       "    </tr>\n",
       "  </thead>\n",
       "  <tbody>\n",
       "    <tr>\n",
       "      <th>15726</th>\n",
       "      <td>POW_04415998</td>\n",
       "      <td>Natuur op 2</td>\n",
       "      <td>EO</td>\n",
       "      <td>Marterachtigen worden vaak gezien als de schur...</td>\n",
       "      <td>Marterachtigen worden vaak gezien als de schur...</td>\n",
       "      <td>De geheime wereld van marterachtigen</td>\n",
       "      <td>https://images.npo.nl/header/2560x1440/1399247...</td>\n",
       "      <td>https://www.npostart.nl/POW_04415998</td>\n",
       "      <td>54</td>\n",
       "    </tr>\n",
       "  </tbody>\n",
       "</table>\n",
       "</div>"
      ],
      "text/plain": [
       "            mediaID    mainTitle broadcaster  \\\n",
       "15726  POW_04415998  Natuur op 2          EO   \n",
       "\n",
       "                                             longSummary  \\\n",
       "15726  Marterachtigen worden vaak gezien als de schur...   \n",
       "\n",
       "                                            shortSummary  \\\n",
       "15726  Marterachtigen worden vaak gezien als de schur...   \n",
       "\n",
       "                                   subTitle  \\\n",
       "15726  De geheime wereld van marterachtigen   \n",
       "\n",
       "                                               thumbnail  \\\n",
       "15726  https://images.npo.nl/header/2560x1440/1399247...   \n",
       "\n",
       "                                  shareLink  Topic  \n",
       "15726  https://www.npostart.nl/POW_04415998     54  "
      ]
     },
     "execution_count": 41,
     "metadata": {},
     "output_type": "execute_result"
    }
   ],
   "source": [
    "df_topics[df_topics[\"mediaID\"] == \"POW_04415998\"]"
   ]
  },
  {
   "cell_type": "code",
   "execution_count": 42,
   "metadata": {},
   "outputs": [],
   "source": [
    "keep = dict(df_result['Topic'].value_counts() > 10)\n",
    "df_result['keep'] = df_result[\"Topic\"].apply(lambda x: keep[x])"
   ]
  },
  {
   "cell_type": "code",
   "execution_count": 43,
   "metadata": {},
   "outputs": [],
   "source": [
    "df_result = df_result[df_result['keep']].drop(columns=['keep'])"
   ]
  },
  {
   "cell_type": "code",
   "execution_count": 44,
   "metadata": {},
   "outputs": [],
   "source": [
    "df_result.to_csv(\"data/NPOPlayerv2.csv\", index= False)\n",
    "df_result.to_csv(\"Streamlit/data/NPOPlayerv2.csv\", index= False)"
   ]
  }
 ],
 "metadata": {
  "kernelspec": {
   "display_name": "INFOMPPM",
   "language": "python",
   "name": "python3"
  },
  "language_info": {
   "codemirror_mode": {
    "name": "ipython",
    "version": 3
   },
   "file_extension": ".py",
   "mimetype": "text/x-python",
   "name": "python",
   "nbconvert_exporter": "python",
   "pygments_lexer": "ipython3",
   "version": "3.10.9"
  },
  "orig_nbformat": 4
 },
 "nbformat": 4,
 "nbformat_minor": 2
}
