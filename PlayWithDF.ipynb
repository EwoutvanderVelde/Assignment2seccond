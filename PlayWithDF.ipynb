{
 "cells": [
  {
   "cell_type": "code",
   "execution_count": 1,
   "metadata": {},
   "outputs": [],
   "source": [
    "import sqlite3 as sq\n",
    "import pandas as pd"
   ]
  },
  {
   "cell_type": "code",
   "execution_count": 2,
   "metadata": {},
   "outputs": [],
   "source": [
    "con = sq.connect(\"NPOPlayer.db\")\n",
    "def run_query(con, table, query):\n",
    "    cur = con.cursor()\n",
    "    cur.execute(query)\n",
    "    results = cur.fetchall()\n",
    "    return results\n",
    "\n",
    "def convert_db_table_to_DF(con, table):\n",
    "    header_query = \"SELECT name FROM pragma_table_info('\" + table + \"') ORDER BY cid;\"\n",
    "    cols_init = run_query(con, table, header_query)\n",
    "    cols = [cols_init[i][0] for i in range(len(cols_init))]\n",
    "    content_query = \"SELECT * from \" + table\n",
    "    data = run_query(con, table, content_query)\n",
    "    df = pd.DataFrame(data, columns= cols)\n",
    "    return df"
   ]
  },
  {
   "cell_type": "code",
   "execution_count": 4,
   "metadata": {},
   "outputs": [],
   "source": [
    "df = convert_db_table_to_DF(con, \"NPOPLAYER\")"
   ]
  },
  {
   "cell_type": "code",
   "execution_count": 20,
   "metadata": {},
   "outputs": [],
   "source": [
    "import spacy\n",
    "from tqdm import tqdm\n",
    "\n",
    "# use displacy to visually show the entities. \n",
    "from spacy import displacy\n",
    "\n",
    "# load spacy model. Alternatively you can use en_core_web_lg\n",
    "nlp = spacy.load(\"nl_core_news_sm\")"
   ]
  },
  {
   "cell_type": "code",
   "execution_count": 32,
   "metadata": {},
   "outputs": [],
   "source": [
    "# df_sub = df.copy()\n",
    "df_sub = df.sample(6000).copy()"
   ]
  },
  {
   "cell_type": "code",
   "execution_count": 33,
   "metadata": {},
   "outputs": [
    {
     "name": "stderr",
     "output_type": "stream",
     "text": [
      "100%|██████████| 6000/6000 [00:52<00:00, 114.66it/s]\n"
     ]
    }
   ],
   "source": [
    "def process(x):\n",
    "  # there are some pesky NaN in the data. Easy but not so elegant way to fix this.\n",
    "  if pd.isna(x) == False:\n",
    "    doc = nlp(x)\n",
    "  else:\n",
    "    doc = ''\n",
    "  return doc\n",
    "\n",
    "\n",
    "tqdm.pandas()\n",
    "df_sub['plot_entities'] = df_sub['longSummary'].progress_apply(lambda x: process(x))\n"
   ]
  },
  {
   "cell_type": "code",
   "execution_count": 64,
   "metadata": {},
   "outputs": [
    {
     "name": "stderr",
     "output_type": "stream",
     "text": [
      "100%|██████████| 6000/6000 [00:00<00:00, 73365.04it/s]\n"
     ]
    }
   ],
   "source": [
    "def get_events(x):\n",
    "  events = []\n",
    "  if x != '':\n",
    "    for entities in x.ents:\n",
    "      if entities.label_ == 'EVENT':\n",
    "        events.append(entities.text)\n",
    "      elif entities.label_ == 'LAW':\n",
    "        events.append(entities.text)\n",
    "      elif entities.label_ == 'LOC':\n",
    "        events.append(entities.text)\n",
    "      elif entities.label_ == 'PERSON':\n",
    "        events.append(entities.text)\n",
    "      elif entities.label_ == 'PRODUCT':\n",
    "        events.append(entities.text)\n",
    "      elif entities.label_ == 'WORK_OF_ART':\n",
    "        events.append(entities.text)\n",
    "  return events\n",
    "\n",
    "# code goes here\n",
    "df_sub['tags'] = df_sub['plot_entities'].progress_apply(lambda x: get_events(x))\n",
    "df_sub['tags']"
   ]
  },
  {
   "cell_type": "code",
   "execution_count": null,
   "metadata": {},
   "outputs": [],
   "source": []
  }
 ],
 "metadata": {
  "kernelspec": {
   "display_name": "INFOMPPM",
   "language": "python",
   "name": "python3"
  },
  "language_info": {
   "codemirror_mode": {
    "name": "ipython",
    "version": 3
   },
   "file_extension": ".py",
   "mimetype": "text/x-python",
   "name": "python",
   "nbconvert_exporter": "python",
   "pygments_lexer": "ipython3",
   "version": "3.10.9"
  },
  "orig_nbformat": 4
 },
 "nbformat": 4,
 "nbformat_minor": 2
}
