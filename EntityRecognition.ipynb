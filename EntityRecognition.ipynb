{
 "cells": [
  {
   "cell_type": "code",
   "execution_count": 1,
   "metadata": {},
   "outputs": [],
   "source": [
    "import sqlite3 as sq\n",
    "import pandas as pd\n",
    "import string\n",
    "import nltk\n",
    "from nltk.corpus import stopwords\n",
    "import matplotlib.pyplot as plt\n",
    "\n",
    "\n",
    "import spacy\n",
    "from tqdm import tqdm\n",
    "tqdm.pandas()\n",
    "\n",
    "# use displacy to visually show the entities. \n",
    "from spacy import displacy\n",
    "import json"
   ]
  },
  {
   "cell_type": "code",
   "execution_count": null,
   "metadata": {},
   "outputs": [],
   "source": [
    "con = sq.connect(\"NPOPlayer.db\")\n",
    "def run_query(con, query):\n",
    "    cur = con.cursor()\n",
    "    cur.execute(query)\n",
    "    results = cur.fetchall()\n",
    "    return results\n",
    "\n",
    "def convert_db_table_to_DF(con, table):\n",
    "    header_query = \"SELECT name FROM pragma_table_info('\" + table + \"') ORDER BY cid;\"\n",
    "    cols_init = run_query(con, table, header_query)\n",
    "    cols = [cols_init[i][0] for i in range(len(cols_init))]\n",
    "    content_query = \"SELECT * from \" + table\n",
    "    data = run_query(con, content_query)\n",
    "    df = pd.DataFrame(data, columns= cols)\n",
    "    return df"
   ]
  },
  {
   "cell_type": "code",
   "execution_count": null,
   "metadata": {},
   "outputs": [],
   "source": [
    "df = convert_db_table_to_DF(con, \"NPOPLAYER\")"
   ]
  },
  {
   "cell_type": "code",
   "execution_count": null,
   "metadata": {},
   "outputs": [],
   "source": [
    "\n",
    "\n",
    "# load spacy model. Alternatively you can use en_core_web_lg\n",
    "nlp = spacy.load(\"nl_core_news_sm\")"
   ]
  },
  {
   "cell_type": "code",
   "execution_count": null,
   "metadata": {},
   "outputs": [],
   "source": [
    "ruler = nlp.add_pipe('entity_ruler', before='ner')\n",
    "\n",
    "patterns = [\n",
    "  {\"label\": \"PRODUCT\", \"pattern\": \"Wedstrijdanalyse\"}\n",
    "]\n",
    "ruler.add_patterns(patterns)"
   ]
  },
  {
   "cell_type": "code",
   "execution_count": null,
   "metadata": {},
   "outputs": [],
   "source": [
    "def process(x):\n",
    "  #print(x[0])\n",
    "  # there are some pesky NaN in the data. Easy but not so elegant way to fix this.\n",
    "  if (pd.isna(x[0]) == False and x[0] != \"\"):\n",
    "    doc = nlp(x[0])\n",
    "  elif (pd.isna(x[1]) == False and x[1] != \"\"):\n",
    "    doc = nlp(x[1])\n",
    "  else:\n",
    "    doc = \"\"\n",
    "  return doc\n",
    "\n",
    "df['plot_entities'] = df[['longSummary', 'shortSummary']].progress_apply(lambda x: process(x), axis = 1)\n"
   ]
  },
  {
   "cell_type": "code",
   "execution_count": null,
   "metadata": {},
   "outputs": [],
   "source": [
    "#df.to_pickle(\"NER.pkl\")\n",
    "#df = pd.read_pickle(\"NER.pkl\")\n"
   ]
  },
  {
   "cell_type": "code",
   "execution_count": null,
   "metadata": {},
   "outputs": [],
   "source": [
    "def get_events(x):\n",
    "  events = []\n",
    "  if x != '':\n",
    "    for entities in x.ents:\n",
    "      if entities.label_ == 'EVENT':\n",
    "        events.append(entities.text)\n",
    "      elif entities.label_ == 'LAW':\n",
    "        events.append(entities.text)\n",
    "      elif entities.label_ == 'LOC':\n",
    "        events.append(entities.text)\n",
    "      elif entities.label_ == 'GPE':\n",
    "        events.append(entities.text)\n",
    "      elif entities.label_ == 'PERSON':\n",
    "        events.append(entities.text)\n",
    "      elif entities.label_ == 'PRODUCT':\n",
    "        events.append(entities.text)\n",
    "      elif entities.label_ == 'WORK_OF_ART':\n",
    "        events.append(entities.text)\n",
    "  return events\n",
    "\n",
    "# code goes here\n",
    "df['tags'] = df['plot_entities'].progress_apply(lambda x: get_events(x))\n",
    "len(df[df[\"tags\"].str.len() == 0])"
   ]
  },
  {
   "cell_type": "code",
   "execution_count": null,
   "metadata": {},
   "outputs": [],
   "source": [
    "media_tag_dict = dict(df[[\"mediaID\", \"tags\"]].values)\n"
   ]
  },
  {
   "cell_type": "code",
   "execution_count": null,
   "metadata": {},
   "outputs": [],
   "source": [
    "def save_activities():\n",
    "    with open('miediaID_NERTags.json', 'w') as outfile:\n",
    "        json.dump(media_tag_dict, outfile)\n",
    "save_activities()"
   ]
  },
  {
   "attachments": {},
   "cell_type": "markdown",
   "metadata": {},
   "source": [
    "Below is to test NER recommendations"
   ]
  },
  {
   "cell_type": "code",
   "execution_count": null,
   "metadata": {},
   "outputs": [],
   "source": [
    "def jaccard_distance(user_ids_isbn_a, user_ids_isbn_b):\n",
    "                \n",
    "    set_isbn_a = set(user_ids_isbn_a)\n",
    "    set_isbn_b = set(user_ids_isbn_b)\n",
    "    \n",
    "    union = set_isbn_a.union(set_isbn_b)\n",
    "    intersection = set_isbn_a.intersection(set_isbn_b)\n",
    "        \n",
    "    return len(intersection) / float(len(union))\n",
    "# code goes here\n",
    "def get_jaccard_distances(mediaID):\n",
    "    tags = media_tag_dict[mediaID]\n",
    "    distancelist = []\n",
    "    for key, value in media_tag_dict.items():\n",
    "        distance = jaccard_distance(tags ,value)\n",
    "        distancelist.append([key, distance])\n",
    "        \n",
    "    return distancelist\n",
    "\n",
    "def get_recommendation(mediaID, topk = 10):\n",
    "    broadcastExclude = df.query(f\"mediaID == '{mediaID}'\")[\"broadcaster\"].values[0]\n",
    "    temp = (pd.DataFrame(get_jaccard_distances(mediaID), columns=['mediaID','JS']).sort_values(by='JS', ascending=False))\n",
    "    merged = pd.merge(left=temp, right=df, left_on='mediaID', right_on=\"mediaID\", how=\"inner\")\n",
    "    return merged.query(f\"broadcaster != '{broadcastExclude}'\").head(topk)\n",
    "\n",
    "get_recommendation(\"WO_POWN_8513746\")"
   ]
  }
 ],
 "metadata": {
  "kernelspec": {
   "display_name": "INFOMPPM",
   "language": "python",
   "name": "python3"
  },
  "language_info": {
   "codemirror_mode": {
    "name": "ipython",
    "version": 3
   },
   "file_extension": ".py",
   "mimetype": "text/x-python",
   "name": "python",
   "nbconvert_exporter": "python",
   "pygments_lexer": "ipython3",
   "version": "3.10.9"
  },
  "orig_nbformat": 4
 },
 "nbformat": 4,
 "nbformat_minor": 2
}
