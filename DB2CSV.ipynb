{
 "cells": [
  {
   "cell_type": "code",
   "execution_count": 1,
   "metadata": {},
   "outputs": [],
   "source": [
    "import sqlite3 as sq\n",
    "import pandas as pd"
   ]
  },
  {
   "cell_type": "code",
   "execution_count": 3,
   "metadata": {},
   "outputs": [],
   "source": [
    "con = sq.connect(\"NPOPlayer.db\")\n",
    "def run_query(con, table, query):\n",
    "    cur = con.cursor()\n",
    "    cur.execute(query)\n",
    "    results = cur.fetchall()\n",
    "    return results\n",
    "\n",
    "def convert_db_table_to_DF(con, table):\n",
    "    header_query = \"SELECT name FROM pragma_table_info('\" + table + \"') ORDER BY cid;\"\n",
    "    cols_init = run_query(con, table, header_query)\n",
    "    cols = [cols_init[i][0] for i in range(len(cols_init))]\n",
    "    content_query = \"SELECT * from \" + table\n",
    "    data = run_query(con, table, content_query)\n",
    "    df = pd.DataFrame(data, columns= cols)\n",
    "    return df"
   ]
  },
  {
   "cell_type": "code",
   "execution_count": 4,
   "metadata": {},
   "outputs": [],
   "source": [
    "df = convert_db_table_to_DF(con, \"NPOPLAYER\")"
   ]
  },
  {
   "cell_type": "code",
   "execution_count": 6,
   "metadata": {},
   "outputs": [],
   "source": [
    "df.to_csv('NPOPlayer.csv', sep=\";\")"
   ]
  }
 ],
 "metadata": {
  "kernelspec": {
   "display_name": "INFOMPPM",
   "language": "python",
   "name": "python3"
  },
  "language_info": {
   "codemirror_mode": {
    "name": "ipython",
    "version": 3
   },
   "file_extension": ".py",
   "mimetype": "text/x-python",
   "name": "python",
   "nbconvert_exporter": "python",
   "pygments_lexer": "ipython3",
   "version": "3.10.9"
  },
  "orig_nbformat": 4
 },
 "nbformat": 4,
 "nbformat_minor": 2
}
